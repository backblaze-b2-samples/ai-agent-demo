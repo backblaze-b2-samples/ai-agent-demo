{
 "cells": [
  {
   "metadata": {},
   "cell_type": "markdown",
   "source": [
    "# Backblaze Drive Stats AI Agent Demo\n",
    "\n",
    "This notebook shows how to create an AI agent that answers questions about hard drive reliability based on over ten years of raw data from the Backblaze [Drive Stats](https://www.backblaze.com/drivestats) project.\n",
    "\n",
    "Note that, due to the non-deterministic nature of large language models (LLMs), as well as changes in the LangChain framework, and other dependencies, over time, you will likely see different results if you run this notebook yourself.\n",
    "\n",
    "## Acknowledgements\n",
    "\n",
    "This work is based on the LangChain [Build a Question/Answering system over SQL data](https://python.langchain.com/docs/tutorials/sql_qa/) tutorial."
   ],
   "id": "870350b43d88b662"
  },
  {
   "metadata": {},
   "cell_type": "markdown",
   "source": [
    "## Install Dependencies\n",
    "\n",
    "First, install the required Python packages. You will need to restart the Jupyter kernel before you can use newly-installed packages. You can uncomment the second line, or manually restart the kernel."
   ],
   "id": "6b7127438f304779"
  },
  {
   "metadata": {
    "ExecuteTime": {
     "end_time": "2025-02-20T18:48:52.263530Z",
     "start_time": "2025-02-20T18:48:52.260552Z"
    }
   },
   "cell_type": "code",
   "source": [
    "%pip install --upgrade --quiet -r requirements.txt\n",
    "\n",
    "# Uncomment this line to restart the kernel so that it uses the new modules\n",
    "# get_ipython().kernel.do_shutdown(restart=True)"
   ],
   "id": "3ca3942ce4293289",
   "outputs": [],
   "execution_count": 1
  },
  {
   "metadata": {},
   "cell_type": "markdown",
   "source": [
    "## Getting a Connection to the Database\n",
    "\n",
    "The Drive Stats data set is publicly available in several formats, including Iceberg/Parquet. In this demo, we're using the [Trino](https://trino.io/) open source SQL query engine to query the data set.\n",
    "\n",
    "LangChain's `SQLDatabase` class provides access to databases via the [SQLAlchemy](https://www.sqlalchemy.org/) open-source Python library. The necessary Python modules are installed via [`requirements.txt`](requirements.txt), so all we need to do is use a URL that follows the pattern `trino://<username>:<password>@<host>:<port>/<catalog>/<schema>`:"
   ],
   "id": "99a626185487cc03"
  },
  {
   "cell_type": "code",
   "id": "4fd1e60f9bf8fa13",
   "metadata": {
    "ExecuteTime": {
     "end_time": "2025-02-20T18:48:54.873581Z",
     "start_time": "2025-02-20T18:48:52.280613Z"
    }
   },
   "source": [
    "from langchain_community.utilities import SQLDatabase\n",
    "import warnings\n",
    "\n",
    "# Suppress warnings triggered by SQLAlchemy not finding Trino partition columns\n",
    "with warnings.catch_warnings():\n",
    "    warnings.simplefilter(\"ignore\")\n",
    "    db = SQLDatabase.from_uri('trino://admin@localhost:8080/iceberg/drivestats')"
   ],
   "outputs": [],
   "execution_count": 2
  },
  {
   "metadata": {},
   "cell_type": "markdown",
   "source": "Run a simple query to check that we can access data.",
   "id": "4d481e13139fa3de"
  },
  {
   "metadata": {
    "collapsed": true,
    "ExecuteTime": {
     "end_time": "2025-02-20T18:48:55.214526Z",
     "start_time": "2025-02-20T18:48:54.951060Z"
    }
   },
   "cell_type": "code",
   "source": "db.run(\"SELECT COUNT(*) FROM drivestats\")",
   "id": "initial_id",
   "outputs": [
    {
     "data": {
      "text/plain": [
       "'[(564566016,)]'"
      ]
     },
     "execution_count": 3,
     "metadata": {},
     "output_type": "execute_result"
    }
   ],
   "execution_count": 3
  },
  {
   "metadata": {},
   "cell_type": "markdown",
   "source": [
    "## Using OpenAI to Generate a SQL Query\n",
    "\n",
    "In this demo, we're using LangChain's OpenAI chat model integration. You could use a different chat model, such as [Ollama](https://python.langchain.com/docs/integrations/chat/ollama/) or [Anthropic](https://python.langchain.com/docs/integrations/chat/anthropic/), if you wish. See the accompanying notebook, [agent_demo_deepseek.ipynb](agent_demo_deepseek.ipynb) for notes on running a DeepSeek model.\n",
    "\n",
    "You must create a `.env` file containing your OpenAI API token. Never, ever, embed credentials in code!\n",
    "\n",
    "```\n",
    "OPENAI_API_KEY=<your-openai-api-key>\n",
    "```"
   ],
   "id": "e4cffd87fb74cbd2"
  },
  {
   "metadata": {
    "ExecuteTime": {
     "end_time": "2025-02-20T18:48:55.961923Z",
     "start_time": "2025-02-20T18:48:55.230712Z"
    }
   },
   "cell_type": "code",
   "source": [
    "from dotenv import load_dotenv\n",
    "from langchain_openai import ChatOpenAI\n",
    "\n",
    "load_dotenv()\n",
    "\n",
    "llm = ChatOpenAI(model=\"gpt-4o-mini\")"
   ],
   "id": "a245e5ef0bc52e18",
   "outputs": [],
   "execution_count": 4
  },
  {
   "metadata": {},
   "cell_type": "markdown",
   "source": "We'll use the default LangChain SQL query system prompt as a starting point.",
   "id": "20519c081d5fbe8d"
  },
  {
   "metadata": {
    "ExecuteTime": {
     "end_time": "2025-02-20T18:48:56.376679Z",
     "start_time": "2025-02-20T18:48:56.001302Z"
    }
   },
   "cell_type": "code",
   "source": [
    "from langchain import hub\n",
    "\n",
    "# Suppress the LangSmith API key warning - we don't need it to do hub.pull\n",
    "with warnings.catch_warnings():\n",
    "    warnings.simplefilter(\"ignore\")\n",
    "    query_prompt_template = hub.pull(\"langchain-ai/sql-query-system-prompt\")\n",
    "\n",
    "assert len(query_prompt_template.messages) == 1\n",
    "query_prompt_template.messages[0].pretty_print()"
   ],
   "id": "dd6e3900d89744f0",
   "outputs": [
    {
     "name": "stdout",
     "output_type": "stream",
     "text": [
      "================================\u001B[1m System Message \u001B[0m================================\n",
      "\n",
      "Given an input question, create a syntactically correct \u001B[33;1m\u001B[1;3m{dialect}\u001B[0m query to run to help find the answer. Unless the user specifies in his question a specific number of examples they wish to obtain, always limit your query to at most \u001B[33;1m\u001B[1;3m{top_k}\u001B[0m results. You can order the results by a relevant column to return the most interesting examples in the database.\n",
      "\n",
      "Never query for all the columns from a specific table, only ask for a the few relevant columns given the question.\n",
      "\n",
      "Pay attention to use only the column names that you can see in the schema description. Be careful to not query for columns that do not exist. Also, pay attention to which column is in which table.\n",
      "\n",
      "Only use the following tables:\n",
      "\u001B[33;1m\u001B[1;3m{table_info}\u001B[0m\n",
      "\n",
      "Question: \u001B[33;1m\u001B[1;3m{input}\u001B[0m\n"
     ]
    }
   ],
   "execution_count": 5
  },
  {
   "metadata": {},
   "cell_type": "markdown",
   "source": "We need to define a helper function to populate the prompt parameters and prompt the model to generate a SQL query.",
   "id": "673b98bccacd4fd5"
  },
  {
   "metadata": {
    "ExecuteTime": {
     "end_time": "2025-02-20T18:48:56.411647Z",
     "start_time": "2025-02-20T18:48:56.408310Z"
    }
   },
   "cell_type": "code",
   "source": [
    "from typing_extensions import Annotated, TypedDict\n",
    "\n",
    "class QueryOutput(TypedDict):\n",
    "    \"\"\"Generated SQL query.\"\"\"\n",
    "    query: Annotated[str, ..., \"Syntactically valid SQL query.\"]\n",
    "\n",
    "\n",
    "class State(TypedDict):\n",
    "    question: str\n",
    "    query: str\n",
    "    result: str\n",
    "    answer: str\n",
    "\n",
    "\n",
    "def write_query(state: State):\n",
    "    prompt = query_prompt_template.invoke(\n",
    "        {\n",
    "            \"dialect\": db.dialect,\n",
    "            \"top_k\": 10,\n",
    "            \"table_info\": db.get_table_info(),\n",
    "            \"input\": state[\"question\"],\n",
    "        }\n",
    "    )\n",
    "    structured_llm = llm.with_structured_output(QueryOutput)\n",
    "    result = structured_llm.invoke(prompt)\n",
    "    return {\"query\": result[\"query\"].rstrip(';')}"
   ],
   "id": "1f6459b21b82a63c",
   "outputs": [],
   "execution_count": 6
  },
  {
   "metadata": {},
   "cell_type": "markdown",
   "source": "Now we can generate a query for a simple question:",
   "id": "32741976c659ba8a"
  },
  {
   "metadata": {
    "ExecuteTime": {
     "end_time": "2025-02-20T18:49:03.469902Z",
     "start_time": "2025-02-20T18:48:56.418633Z"
    }
   },
   "cell_type": "code",
   "source": [
    "question = {\"question\": \"How many drives are there?\"}\n",
    "\n",
    "query = write_query(question)\n",
    "\n",
    "query"
   ],
   "id": "d52609c5a570adfe",
   "outputs": [
    {
     "data": {
      "text/plain": [
       "{'query': 'SELECT COUNT(*) AS total_drives FROM drivestats'}"
      ]
     },
     "execution_count": 7,
     "metadata": {},
     "output_type": "execute_result"
    }
   ],
   "execution_count": 7
  },
  {
   "metadata": {},
   "cell_type": "markdown",
   "source": "The `query` dict does indeed contain a valid SQL query, but it won’t give us the answer we are looking for! That query will tell us how many rows there are in the data set, rather than how many drives. We have to provide a bit more information to obtain the correct query:",
   "id": "93223e04749c4e03"
  },
  {
   "metadata": {
    "ExecuteTime": {
     "end_time": "2025-02-20T18:49:07.811847Z",
     "start_time": "2025-02-20T18:49:03.498865Z"
    }
   },
   "cell_type": "code",
   "source": [
    "question = {\"question\": \"Each drive has its own serial number. How many drives are there?\"}\n",
    "\n",
    "query = write_query(question)\n",
    "\n",
    "query"
   ],
   "id": "81a4f89df2301f0e",
   "outputs": [
    {
     "data": {
      "text/plain": [
       "{'query': 'SELECT COUNT(DISTINCT serial_number) AS total_drives FROM drivestats'}"
      ]
     },
     "execution_count": 8,
     "metadata": {},
     "output_type": "execute_result"
    }
   ],
   "execution_count": 8
  },
  {
   "metadata": {},
   "cell_type": "markdown",
   "source": [
    "It's important to check the output of AI models–they can generate unexpected results!\n",
    "\n",
    "We need to define another helper function to execute the query:"
   ],
   "id": "1f83692bcca28a92"
  },
  {
   "metadata": {
    "ExecuteTime": {
     "end_time": "2025-02-20T18:49:07.837331Z",
     "start_time": "2025-02-20T18:49:07.815984Z"
    }
   },
   "cell_type": "code",
   "source": [
    "from langchain_community.tools.sql_database.tool import QuerySQLDatabaseTool\n",
    "\n",
    "def execute_query(state: State):\n",
    "    execute_query_tool = QuerySQLDatabaseTool(db=db)\n",
    "    return {\"result\": execute_query_tool.invoke(state[\"query\"])}"
   ],
   "id": "e2a3b9446397465",
   "outputs": [],
   "execution_count": 9
  },
  {
   "metadata": {},
   "cell_type": "markdown",
   "source": "Now we can execute the generated query:",
   "id": "35546f212a414d30"
  },
  {
   "metadata": {
    "ExecuteTime": {
     "end_time": "2025-02-20T18:50:12.786331Z",
     "start_time": "2025-02-20T18:49:07.844116Z"
    }
   },
   "cell_type": "code",
   "source": [
    "result = execute_query(query)\n",
    "\n",
    "result"
   ],
   "id": "8654ff36dcb9497",
   "outputs": [
    {
     "data": {
      "text/plain": [
       "{'result': '[(445773,)]'}"
      ]
     },
     "execution_count": 10,
     "metadata": {},
     "output_type": "execute_result"
    }
   ],
   "execution_count": 10
  },
  {
   "metadata": {},
   "cell_type": "markdown",
   "source": "Our last helper function uses the LLM to generate an answer from the query results:",
   "id": "6f1dea55cc069ac"
  },
  {
   "metadata": {
    "ExecuteTime": {
     "end_time": "2025-02-20T18:50:12.921313Z",
     "start_time": "2025-02-20T18:50:12.918707Z"
    }
   },
   "cell_type": "code",
   "source": [
    "def generate_answer(state: State):\n",
    "    prompt = (\n",
    "        \"Given the following user question, corresponding SQL query, \"\n",
    "        \"and SQL result, answer the user question.\\n\\n\"\n",
    "        f'Question: {state[\"question\"]}\\n'\n",
    "        f'SQL Query: {state[\"query\"]}\\n'\n",
    "        f'SQL Result: {state[\"result\"]}'\n",
    "    )\n",
    "    response = llm.invoke(prompt)\n",
    "    return {\"answer\": response.content}"
   ],
   "id": "1d32a105361de9e2",
   "outputs": [],
   "execution_count": 11
  },
  {
   "metadata": {},
   "cell_type": "markdown",
   "source": "Again, we can test the helper function in isolation. Notice that we have to provide the question and query, as well as the result, since the prompt includes all three:",
   "id": "df4fa747b0288063"
  },
  {
   "metadata": {
    "ExecuteTime": {
     "end_time": "2025-02-20T18:50:13.916452Z",
     "start_time": "2025-02-20T18:50:13.185573Z"
    }
   },
   "cell_type": "code",
   "source": [
    "answer = generate_answer(question | query | result)\n",
    "\n",
    "answer['answer']"
   ],
   "id": "d1f6ed6b0582d1e4",
   "outputs": [
    {
     "data": {
      "text/plain": [
       "'There are 445,773 drives.'"
      ]
     },
     "execution_count": 12,
     "metadata": {},
     "output_type": "execute_result"
    }
   ],
   "execution_count": 12
  },
  {
   "metadata": {},
   "cell_type": "markdown",
   "source": [
    "Success! At the present time (Jan 14, 2025), there are indeed 430,464 drives in the Drive Stats data set.\n",
    "\n",
    "We use LangGraph to compile the steps into a single `graph` object:"
   ],
   "id": "ae27c5fd2abf82f9"
  },
  {
   "metadata": {
    "ExecuteTime": {
     "end_time": "2025-02-20T18:50:14.010321Z",
     "start_time": "2025-02-20T18:50:13.939958Z"
    }
   },
   "cell_type": "code",
   "source": [
    "from langgraph.graph import START, StateGraph\n",
    "\n",
    "graph_builder = StateGraph(State).add_sequence(\n",
    "    [write_query, execute_query, generate_answer]\n",
    ")\n",
    "graph_builder.add_edge(START, \"write_query\")\n",
    "graph = graph_builder.compile()"
   ],
   "id": "e3adba1823f8bcbe",
   "outputs": [],
   "execution_count": 13
  },
  {
   "metadata": {},
   "cell_type": "markdown",
   "source": "We can visualize the flow:",
   "id": "64f220392895ef8d"
  },
  {
   "metadata": {
    "ExecuteTime": {
     "end_time": "2025-02-20T18:50:14.268946Z",
     "start_time": "2025-02-20T18:50:14.014307Z"
    }
   },
   "cell_type": "code",
   "source": [
    "from IPython.display import Image, display\n",
    "\n",
    "display(Image(graph.get_graph().draw_mermaid_png()))"
   ],
   "id": "94a081f592ed5e5c",
   "outputs": [
    {
     "data": {
      "image/png": "[encoded data removed]",
      "text/plain": [
       "<IPython.core.display.Image object>"
      ]
     },
     "metadata": {},
     "output_type": "display_data"
    }
   ],
   "execution_count": 14
  },
  {
   "metadata": {},
   "cell_type": "markdown",
   "source": "Let’s _stream_ a new question through the flow. This mode of operation displays the output of each step as it is executed, essential for understanding the flow’s behavior, particularly when it is not behaving as expected! The model returns structured text in [Markdown](https://en.wikipedia.org/wiki/Markdown) format; with a little code to extract the message from the `step` variable, we can use the `display_markdown` function to render each step’s output:",
   "id": "55f4bf34c3063c2a"
  },
  {
   "metadata": {
    "ExecuteTime": {
     "end_time": "2025-02-20T18:50:25.327209Z",
     "start_time": "2025-02-20T18:50:14.277442Z"
    }
   },
   "cell_type": "code",
   "source": [
    "from IPython.display import display_markdown\n",
    "from more_itertools import one\n",
    "\n",
    "# Add a horizontal rule before each step output, apart from the first\n",
    "hr = ''\n",
    "for step in graph.stream(\n",
    "    {\"question\": \"Each drive has its own serial number. How many drives did each data center have on 9/1/2024?\"}, stream_mode=\"updates\"\n",
    "):\n",
    "    # For this graph, step has the form {'node_name': {'key', 'message'}},\n",
    "    # where node_name is one of 'write_query', 'execute_query', or\n",
    "    # 'generate_answer' and key is one of 'query', 'result' or 'answer'.\n",
    "    #\n",
    "    # one gives us the first element of an iterable, allowing us to\n",
    "    # conveniently get the wrapped value.\n",
    "    state = one(step.values())\n",
    "    message = hr + one(state.values())\n",
    "    if len(hr) == 0:\n",
    "        hr = '---\\n'\n",
    "    display_markdown(message, raw=True)"
   ],
   "id": "c7cd823f667a8636",
   "outputs": [
    {
     "data": {
      "text/markdown": "SELECT datacenter, COUNT(DISTINCT serial_number) AS drive_count \nFROM drivestats \nWHERE date = DATE '2024-09-01' \nGROUP BY datacenter \nORDER BY drive_count DESC \nLIMIT 10"
     },
     "metadata": {},
     "output_type": "display_data"
    },
    {
     "data": {
      "text/markdown": "---\n[('phx1', 89477), ('sac0', 78444), ('sac2', 60775), ('', 24080), ('iad1', 22800), ('ams5', 16139)]"
     },
     "metadata": {},
     "output_type": "display_data"
    },
    {
     "data": {
      "text/markdown": "---\nOn September 1, 2024, the data centers had the following number of drives:\n\n- **phx1**: 89,477 drives\n- **sac0**: 78,444 drives\n- **sac2**: 60,775 drives\n- **(empty datacenter)**: 24,080 drives\n- **iad1**: 22,800 drives\n- **ams5**: 16,139 drives\n\nThese are the top data centers with the highest drive counts on that date."
     },
     "metadata": {},
     "output_type": "display_data"
    }
   ],
   "execution_count": 15
  },
  {
   "metadata": {},
   "cell_type": "markdown",
   "source": [
    "As you can see in the output from the first step, the model generated an invalid query, despite the database schema being included in the prompt. The output of the second step contains the resulting error message from the database, while the third step contains the model’s diagnosis of the error.\n",
    "\n",
    "This exchange highlights a limitation of a flow that is simply a linear series of steps, such as `write_query`, `execute_query` and `generate_answer`: we cannot rely on the model to generate a valid SQL query, although it is able to point the way towards resolving its error."
   ],
   "id": "61eee464cd43277d"
  },
  {
   "metadata": {},
   "cell_type": "markdown",
   "source": [
    "## Creating a ReAct AI Agent with LangGraph\n",
    "\n",
    "The LangGraph framework gives you the capability to create AI agents based on arbitrarily complex logic. In this article, I’ve used its prebuilt [ReAct](https://react-lm.github.io/) (Reason+Act) agent, since it neatly demonstrates the agent concept, rewriting the SQL query repeatedly in response to database errors.\n",
    "\n",
    "There are three steps to creating the agent. The first is to create an instance of LangChain's [SQLDatabaseToolkit](https://python.langchain.com/api_reference/community/agent_toolkits/langchain_community.agent_toolkits.sql.toolkit.SQLDatabaseToolkit.html), passing it the database and model, and obtain its list of tools:"
   ],
   "id": "30541e992396a934"
  },
  {
   "metadata": {
    "ExecuteTime": {
     "end_time": "2025-02-20T18:50:25.381719Z",
     "start_time": "2025-02-20T18:50:25.345503Z"
    }
   },
   "cell_type": "code",
   "source": [
    "from langchain_community.agent_toolkits import SQLDatabaseToolkit\n",
    "\n",
    "toolkit = SQLDatabaseToolkit(db=db, llm=llm)\n",
    "\n",
    "tools = toolkit.get_tools()\n",
    "\n",
    "tools"
   ],
   "id": "42979b27f66b4b41",
   "outputs": [
    {
     "data": {
      "text/plain": [
       "[QuerySQLDatabaseTool(description=\"Input to this tool is a detailed and correct SQL query, output is a result from the database. If the query is not correct, an error message will be returned. If an error is returned, rewrite the query, check the query, and try again. If you encounter an issue with Unknown column 'xxxx' in 'field list', use sql_db_schema to query the correct table fields.\", db=<langchain_community.utilities.sql_database.SQLDatabase object at 0x106a5bda0>),\n",
       " InfoSQLDatabaseTool(description='Input to this tool is a comma-separated list of tables, output is the schema and sample rows for those tables. Be sure that the tables actually exist by calling sql_db_list_tables first! Example Input: table1, table2, table3', db=<langchain_community.utilities.sql_database.SQLDatabase object at 0x106a5bda0>),\n",
       " ListSQLDatabaseTool(db=<langchain_community.utilities.sql_database.SQLDatabase object at 0x106a5bda0>),\n",
       " QuerySQLCheckerTool(description='Use this tool to double check if your query is correct before executing it. Always use this tool before executing a query with sql_db_query!', db=<langchain_community.utilities.sql_database.SQLDatabase object at 0x106a5bda0>, llm=ChatOpenAI(client=<openai.resources.chat.completions.Completions object at 0x112084ad0>, async_client=<openai.resources.chat.completions.AsyncCompletions object at 0x112086780>, root_client=<openai.OpenAI object at 0x111987260>, root_async_client=<openai.AsyncOpenAI object at 0x112084b30>, model_name='gpt-4o-mini', model_kwargs={}, openai_api_key=SecretStr('**********')), llm_chain=LLMChain(verbose=False, prompt=PromptTemplate(input_variables=['dialect', 'query'], input_types={}, partial_variables={}, template='\\n{query}\\nDouble check the {dialect} query above for common mistakes, including:\\n- Using NOT IN with NULL values\\n- Using UNION when UNION ALL should have been used\\n- Using BETWEEN for exclusive ranges\\n- Data type mismatch in predicates\\n- Properly quoting identifiers\\n- Using the correct number of arguments for functions\\n- Casting to the correct data type\\n- Using the proper columns for joins\\n\\nIf there are any of the above mistakes, rewrite the query. If there are no mistakes, just reproduce the original query.\\n\\nOutput the final SQL query only.\\n\\nSQL Query: '), llm=ChatOpenAI(client=<openai.resources.chat.completions.Completions object at 0x112084ad0>, async_client=<openai.resources.chat.completions.AsyncCompletions object at 0x112086780>, root_client=<openai.OpenAI object at 0x111987260>, root_async_client=<openai.AsyncOpenAI object at 0x112084b30>, model_name='gpt-4o-mini', model_kwargs={}, openai_api_key=SecretStr('**********')), output_parser=StrOutputParser(), llm_kwargs={}))]"
      ]
     },
     "execution_count": 16,
     "metadata": {},
     "output_type": "execute_result"
    }
   ],
   "execution_count": 16
  },
  {
   "metadata": {},
   "cell_type": "markdown",
   "source": [
    "The `tools` list contains tools that execute queries, retrieve the names, schemas and content of database tables, and check SQL query syntax.\n",
    "\n",
    "The next step is to retrieve a suitable prompt template from the Prompt Hub and populate the template placeholders:"
   ],
   "id": "a355ba99756245c6"
  },
  {
   "metadata": {
    "ExecuteTime": {
     "end_time": "2025-02-20T18:50:25.854535Z",
     "start_time": "2025-02-20T18:50:25.386884Z"
    }
   },
   "cell_type": "code",
   "source": [
    "from langchain import hub\n",
    "\n",
    "# Suppress the LandSmith API key warning - we don't need it to do hub.pull\n",
    "with warnings.catch_warnings():\n",
    "    warnings.simplefilter(\"ignore\")\n",
    "    prompt_template = hub.pull(\"langchain-ai/sql-agent-system-prompt\")\n",
    "\n",
    "assert len(prompt_template.messages) == 1\n",
    "prompt_template.messages[0].pretty_print()"
   ],
   "id": "37f652e4456ccc69",
   "outputs": [
    {
     "name": "stdout",
     "output_type": "stream",
     "text": [
      "================================\u001B[1m System Message \u001B[0m================================\n",
      "\n",
      "You are an agent designed to interact with a SQL database.\n",
      "Given an input question, create a syntactically correct \u001B[33;1m\u001B[1;3m{dialect}\u001B[0m query to run, then look at the results of the query and return the answer.\n",
      "Unless the user specifies a specific number of examples they wish to obtain, always limit your query to at most \u001B[33;1m\u001B[1;3m{top_k}\u001B[0m results.\n",
      "You can order the results by a relevant column to return the most interesting examples in the database.\n",
      "Never query for all the columns from a specific table, only ask for the relevant columns given the question.\n",
      "You have access to tools for interacting with the database.\n",
      "Only use the below tools. Only use the information returned by the below tools to construct your final answer.\n",
      "You MUST double check your query before executing it. If you get an error while executing a query, rewrite the query and try again.\n",
      "\n",
      "DO NOT make any DML statements (INSERT, UPDATE, DELETE, DROP etc.) to the database.\n",
      "\n",
      "To start you should ALWAYS look at the tables in the database to see what you can query.\n",
      "Do NOT skip this step.\n",
      "Then you should query the schema of the most relevant tables.\n"
     ]
    }
   ],
   "execution_count": 17
  },
  {
   "metadata": {
    "ExecuteTime": {
     "end_time": "2025-02-20T18:50:25.865041Z",
     "start_time": "2025-02-20T18:50:25.862028Z"
    }
   },
   "cell_type": "code",
   "source": "system_message = prompt_template.format(dialect=db.dialect, top_k=10)",
   "id": "21ec1bad22e8146",
   "outputs": [],
   "execution_count": 18
  },
  {
   "metadata": {},
   "cell_type": "markdown",
   "source": "Now we can create an instance of the prebuilt agent:",
   "id": "6846209777f3b2ee"
  },
  {
   "metadata": {
    "ExecuteTime": {
     "end_time": "2025-02-20T18:50:25.896216Z",
     "start_time": "2025-02-20T18:50:25.878112Z"
    }
   },
   "cell_type": "code",
   "source": [
    "from langgraph.prebuilt import create_react_agent\n",
    "\n",
    "agent_executor = create_react_agent(llm, tools, state_modifier=system_message)"
   ],
   "id": "75e9af5dca73f17d",
   "outputs": [],
   "execution_count": 19
  },
  {
   "metadata": {},
   "cell_type": "markdown",
   "source": "Note how the agent must select the next step, and how the flow can cycle between the agent and tools steps:",
   "id": "614df804f1efd8ba"
  },
  {
   "metadata": {
    "ExecuteTime": {
     "end_time": "2025-02-20T18:50:26.014754Z",
     "start_time": "2025-02-20T18:50:25.900207Z"
    }
   },
   "cell_type": "code",
   "source": "display(Image(agent_executor.get_graph().draw_mermaid_png()))",
   "id": "2a2132c535db3844",
   "outputs": [
    {
     "data": {
      "image/png": "[encoded data removed]",
      "text/plain": [
       "<IPython.core.display.Image object>"
      ]
     },
     "metadata": {},
     "output_type": "display_data"
    }
   ],
   "execution_count": 20
  },
  {
   "metadata": {},
   "cell_type": "markdown",
   "source": "Again, we can stream the agent’s execution to show us each step of its operation.",
   "id": "646c3b7c8c5dacc5"
  },
  {
   "metadata": {
    "ExecuteTime": {
     "end_time": "2025-02-20T18:50:46.503480Z",
     "start_time": "2025-02-20T18:50:26.026221Z"
    }
   },
   "cell_type": "code",
   "source": [
    "for step in agent_executor.stream(\n",
    "    {\"messages\": [{\"role\": \"user\", \"content\": \"Each drive has its own serial number. How many drives did each data center have on 9/1/2024?\"}]},\n",
    "    stream_mode=\"values\",\n",
    "):\n",
    "    step[\"messages\"][-1].pretty_print()"
   ],
   "id": "4228bdf7c3bd216a",
   "outputs": [
    {
     "name": "stdout",
     "output_type": "stream",
     "text": [
      "================================\u001B[1m Human Message \u001B[0m=================================\n",
      "\n",
      "Each drive has its own serial number. How many drives did each data center have on 9/1/2024?\n",
      "==================================\u001B[1m Ai Message \u001B[0m==================================\n",
      "Tool Calls:\n",
      "  sql_db_list_tables (call_7RUubYpslcxlUTUKDfo3F018)\n",
      " Call ID: call_7RUubYpslcxlUTUKDfo3F018\n",
      "  Args:\n",
      "=================================\u001B[1m Tool Message \u001B[0m=================================\n",
      "Name: sql_db_list_tables\n",
      "\n",
      "drivestats\n",
      "==================================\u001B[1m Ai Message \u001B[0m==================================\n",
      "Tool Calls:\n",
      "  sql_db_schema (call_BjZsgcZGJCu0OSjTAxIDLkmz)\n",
      " Call ID: call_BjZsgcZGJCu0OSjTAxIDLkmz\n",
      "  Args:\n",
      "    table_names: drivestats\n",
      "=================================\u001B[1m Tool Message \u001B[0m=================================\n",
      "Name: sql_db_schema\n",
      "\n",
      "\n",
      "CREATE TABLE drivestats (\n",
      "\tdate DATE, \n",
      "\tserial_number VARCHAR, \n",
      "\tmodel VARCHAR, \n",
      "\tcapacity_bytes BIGINT, \n",
      "\tfailure INTEGER, \n",
      "\tsmart_1_raw BIGINT, \n",
      "\tsmart_5_raw BIGINT, \n",
      "\tsmart_9_raw BIGINT, \n",
      "\tsmart_194_raw BIGINT, \n",
      "\tsmart_197_raw BIGINT, \n",
      "\tsmart_1_normalized BIGINT, \n",
      "\tsmart_2_normalized BIGINT, \n",
      "\tsmart_2_raw BIGINT, \n",
      "\tsmart_3_normalized BIGINT, \n",
      "\tsmart_3_raw BIGINT, \n",
      "\tsmart_4_normalized BIGINT, \n",
      "\tsmart_4_raw BIGINT, \n",
      "\tsmart_5_normalized BIGINT, \n",
      "\tsmart_7_normalized BIGINT, \n",
      "\tsmart_7_raw BIGINT, \n",
      "\tsmart_8_normalized BIGINT, \n",
      "\tsmart_8_raw BIGINT, \n",
      "\tsmart_9_normalized BIGINT, \n",
      "\tsmart_10_normalized BIGINT, \n",
      "\tsmart_10_raw BIGINT, \n",
      "\tsmart_12_normalized BIGINT, \n",
      "\tsmart_12_raw BIGINT, \n",
      "\tsmart_184_normalized BIGINT, \n",
      "\tsmart_184_raw BIGINT, \n",
      "\tsmart_187_normalized BIGINT, \n",
      "\tsmart_187_raw BIGINT, \n",
      "\tsmart_188_normalized BIGINT, \n",
      "\tsmart_188_raw BIGINT, \n",
      "\tsmart_189_normalized BIGINT, \n",
      "\tsmart_189_raw BIGINT, \n",
      "\tsmart_190_normalized BIGINT, \n",
      "\tsmart_190_raw BIGINT, \n",
      "\tsmart_191_normalized BIGINT, \n",
      "\tsmart_191_raw BIGINT, \n",
      "\tsmart_192_normalized BIGINT, \n",
      "\tsmart_192_raw BIGINT, \n",
      "\tsmart_193_normalized BIGINT, \n",
      "\tsmart_193_raw BIGINT, \n",
      "\tsmart_194_normalized BIGINT, \n",
      "\tsmart_195_normalized BIGINT, \n",
      "\tsmart_195_raw BIGINT, \n",
      "\tsmart_196_normalized BIGINT, \n",
      "\tsmart_196_raw BIGINT, \n",
      "\tsmart_197_normalized BIGINT, \n",
      "\tsmart_198_normalized BIGINT, \n",
      "\tsmart_198_raw BIGINT, \n",
      "\tsmart_199_normalized BIGINT, \n",
      "\tsmart_199_raw BIGINT, \n",
      "\tsmart_240_normalized BIGINT, \n",
      "\tsmart_240_raw BIGINT, \n",
      "\tsmart_241_normalized BIGINT, \n",
      "\tsmart_241_raw BIGINT, \n",
      "\tsmart_242_normalized BIGINT, \n",
      "\tsmart_242_raw BIGINT, \n",
      "\tsmart_250_normalized BIGINT, \n",
      "\tsmart_250_raw BIGINT, \n",
      "\tsmart_251_normalized BIGINT, \n",
      "\tsmart_251_raw BIGINT, \n",
      "\tsmart_252_normalized BIGINT, \n",
      "\tsmart_252_raw BIGINT, \n",
      "\tsmart_254_normalized BIGINT, \n",
      "\tsmart_254_raw BIGINT, \n",
      "\tsmart_11_normalized BIGINT, \n",
      "\tsmart_11_raw BIGINT, \n",
      "\tsmart_183_normalized BIGINT, \n",
      "\tsmart_183_raw BIGINT, \n",
      "\tsmart_200_normalized BIGINT, \n",
      "\tsmart_200_raw BIGINT, \n",
      "\tsmart_223_normalized BIGINT, \n",
      "\tsmart_223_raw BIGINT, \n",
      "\tsmart_225_normalized BIGINT, \n",
      "\tsmart_225_raw BIGINT, \n",
      "\tsmart_13_normalized BIGINT, \n",
      "\tsmart_13_raw BIGINT, \n",
      "\tsmart_201_normalized BIGINT, \n",
      "\tsmart_201_raw BIGINT, \n",
      "\tsmart_15_normalized BIGINT, \n",
      "\tsmart_15_raw BIGINT, \n",
      "\tsmart_255_normalized BIGINT, \n",
      "\tsmart_255_raw BIGINT, \n",
      "\tsmart_22_normalized BIGINT, \n",
      "\tsmart_22_raw BIGINT, \n",
      "\tsmart_220_normalized BIGINT, \n",
      "\tsmart_220_raw BIGINT, \n",
      "\tsmart_222_normalized BIGINT, \n",
      "\tsmart_222_raw BIGINT, \n",
      "\tsmart_224_normalized BIGINT, \n",
      "\tsmart_224_raw BIGINT, \n",
      "\tsmart_226_normalized BIGINT, \n",
      "\tsmart_226_raw BIGINT, \n",
      "\tsmart_177_normalized BIGINT, \n",
      "\tsmart_177_raw BIGINT, \n",
      "\tsmart_179_normalized BIGINT, \n",
      "\tsmart_179_raw BIGINT, \n",
      "\tsmart_181_normalized BIGINT, \n",
      "\tsmart_181_raw BIGINT, \n",
      "\tsmart_182_normalized BIGINT, \n",
      "\tsmart_182_raw BIGINT, \n",
      "\tsmart_235_normalized BIGINT, \n",
      "\tsmart_235_raw BIGINT, \n",
      "\tsmart_23_normalized BIGINT, \n",
      "\tsmart_23_raw BIGINT, \n",
      "\tsmart_24_normalized BIGINT, \n",
      "\tsmart_24_raw BIGINT, \n",
      "\tsmart_16_normalized BIGINT, \n",
      "\tsmart_16_raw BIGINT, \n",
      "\tsmart_17_normalized BIGINT, \n",
      "\tsmart_17_raw BIGINT, \n",
      "\tsmart_168_normalized BIGINT, \n",
      "\tsmart_168_raw BIGINT, \n",
      "\tsmart_170_normalized BIGINT, \n",
      "\tsmart_170_raw BIGINT, \n",
      "\tsmart_173_normalized BIGINT, \n",
      "\tsmart_173_raw BIGINT, \n",
      "\tsmart_174_normalized BIGINT, \n",
      "\tsmart_174_raw BIGINT, \n",
      "\tsmart_218_normalized BIGINT, \n",
      "\tsmart_218_raw BIGINT, \n",
      "\tsmart_231_normalized BIGINT, \n",
      "\tsmart_231_raw BIGINT, \n",
      "\tsmart_232_normalized BIGINT, \n",
      "\tsmart_232_raw BIGINT, \n",
      "\tsmart_233_normalized BIGINT, \n",
      "\tsmart_233_raw BIGINT, \n",
      "\tsmart_18_normalized BIGINT, \n",
      "\tsmart_18_raw BIGINT, \n",
      "\tsmart_175_normalized BIGINT, \n",
      "\tsmart_175_raw BIGINT, \n",
      "\tsmart_180_normalized BIGINT, \n",
      "\tsmart_180_raw BIGINT, \n",
      "\tsmart_202_normalized BIGINT, \n",
      "\tsmart_202_raw BIGINT, \n",
      "\tsmart_206_normalized BIGINT, \n",
      "\tsmart_206_raw BIGINT, \n",
      "\tsmart_210_normalized BIGINT, \n",
      "\tsmart_210_raw BIGINT, \n",
      "\tsmart_245_normalized BIGINT, \n",
      "\tsmart_245_raw BIGINT, \n",
      "\tsmart_247_normalized BIGINT, \n",
      "\tsmart_247_raw BIGINT, \n",
      "\tsmart_248_normalized BIGINT, \n",
      "\tsmart_248_raw BIGINT, \n",
      "\tsmart_234_normalized BIGINT, \n",
      "\tsmart_234_raw BIGINT, \n",
      "\tsmart_160_normalized BIGINT, \n",
      "\tsmart_160_raw BIGINT, \n",
      "\tsmart_161_normalized BIGINT, \n",
      "\tsmart_161_raw BIGINT, \n",
      "\tsmart_163_normalized BIGINT, \n",
      "\tsmart_163_raw BIGINT, \n",
      "\tsmart_164_normalized BIGINT, \n",
      "\tsmart_164_raw BIGINT, \n",
      "\tsmart_165_normalized BIGINT, \n",
      "\tsmart_165_raw BIGINT, \n",
      "\tsmart_166_normalized BIGINT, \n",
      "\tsmart_166_raw BIGINT, \n",
      "\tsmart_167_normalized BIGINT, \n",
      "\tsmart_167_raw BIGINT, \n",
      "\tsmart_169_normalized BIGINT, \n",
      "\tsmart_169_raw BIGINT, \n",
      "\tsmart_176_normalized BIGINT, \n",
      "\tsmart_176_raw BIGINT, \n",
      "\tsmart_178_normalized BIGINT, \n",
      "\tsmart_178_raw BIGINT, \n",
      "\tsmart_171_normalized BIGINT, \n",
      "\tsmart_171_raw BIGINT, \n",
      "\tsmart_172_normalized BIGINT, \n",
      "\tsmart_172_raw BIGINT, \n",
      "\tsmart_230_normalized BIGINT, \n",
      "\tsmart_230_raw BIGINT, \n",
      "\tsmart_244_normalized BIGINT, \n",
      "\tsmart_244_raw BIGINT, \n",
      "\tsmart_246_normalized BIGINT, \n",
      "\tsmart_246_raw BIGINT, \n",
      "\tvault_id VARCHAR, \n",
      "\tpod_id INTEGER, \n",
      "\tis_legacy_format INTEGER, \n",
      "\tsmart_71_normalized BIGINT, \n",
      "\tsmart_71_raw BIGINT, \n",
      "\tsmart_90_normalized BIGINT, \n",
      "\tsmart_90_raw BIGINT, \n",
      "\tdatacenter VARCHAR, \n",
      "\tcluster_id VARCHAR, \n",
      "\tpod_slot_num INTEGER, \n",
      "\tsmart_82_normalized BIGINT, \n",
      "\tsmart_82_raw BIGINT, \n",
      "\tsmart_27_normalized BIGINT, \n",
      "\tsmart_27_raw BIGINT, \n",
      "\tsmart_211_normalized BIGINT, \n",
      "\tsmart_211_raw BIGINT, \n",
      "\tsmart_212_normalized BIGINT, \n",
      "\tsmart_212_raw BIGINT\n",
      ")\n",
      "\n",
      "/*\n",
      "3 rows from drivestats table:\n",
      "date\tserial_number\tmodel\tcapacity_bytes\tfailure\tsmart_1_raw\tsmart_5_raw\tsmart_9_raw\tsmart_194_raw\tsmart_197_raw\tsmart_1_normalized\tsmart_2_normalized\tsmart_2_raw\tsmart_3_normalized\tsmart_3_raw\tsmart_4_normalized\tsmart_4_raw\tsmart_5_normalized\tsmart_7_normalized\tsmart_7_raw\tsmart_8_normalized\tsmart_8_raw\tsmart_9_normalized\tsmart_10_normalized\tsmart_10_raw\tsmart_12_normalized\tsmart_12_raw\tsmart_184_normalized\tsmart_184_raw\tsmart_187_normalized\tsmart_187_raw\tsmart_188_normalized\tsmart_188_raw\tsmart_189_normalized\tsmart_189_raw\tsmart_190_normalized\tsmart_190_raw\tsmart_191_normalized\tsmart_191_raw\tsmart_192_normalized\tsmart_192_raw\tsmart_193_normalized\tsmart_193_raw\tsmart_194_normalized\tsmart_195_normalized\tsmart_195_raw\tsmart_196_normalized\tsmart_196_raw\tsmart_197_normalized\tsmart_198_normalized\tsmart_198_raw\tsmart_199_normalized\tsmart_199_raw\tsmart_240_normalized\tsmart_240_raw\tsmart_241_normalized\tsmart_241_raw\tsmart_242_normalized\tsmart_242_raw\tsmart_250_normalized\tsmart_250_raw\tsmart_251_normalized\tsmart_251_raw\tsmart_252_normalized\tsmart_252_raw\tsmart_254_normalized\tsmart_254_raw\tsmart_11_normalized\tsmart_11_raw\tsmart_183_normalized\tsmart_183_raw\tsmart_200_normalized\tsmart_200_raw\tsmart_223_normalized\tsmart_223_raw\tsmart_225_normalized\tsmart_225_raw\tsmart_13_normalized\tsmart_13_raw\tsmart_201_normalized\tsmart_201_raw\tsmart_15_normalized\tsmart_15_raw\tsmart_255_normalized\tsmart_255_raw\tsmart_22_normalized\tsmart_22_raw\tsmart_220_normalized\tsmart_220_raw\tsmart_222_normalized\tsmart_222_raw\tsmart_224_normalized\tsmart_224_raw\tsmart_226_normalized\tsmart_226_raw\tsmart_177_normalized\tsmart_177_raw\tsmart_179_normalized\tsmart_179_raw\tsmart_181_normalized\tsmart_181_raw\tsmart_182_normalized\tsmart_182_raw\tsmart_235_normalized\tsmart_235_raw\tsmart_23_normalized\tsmart_23_raw\tsmart_24_normalized\tsmart_24_raw\tsmart_16_normalized\tsmart_16_raw\tsmart_17_normalized\tsmart_17_raw\tsmart_168_normalized\tsmart_168_raw\tsmart_170_normalized\tsmart_170_raw\tsmart_173_normalized\tsmart_173_raw\tsmart_174_normalized\tsmart_174_raw\tsmart_218_normalized\tsmart_218_raw\tsmart_231_normalized\tsmart_231_raw\tsmart_232_normalized\tsmart_232_raw\tsmart_233_normalized\tsmart_233_raw\tsmart_18_normalized\tsmart_18_raw\tsmart_175_normalized\tsmart_175_raw\tsmart_180_normalized\tsmart_180_raw\tsmart_202_normalized\tsmart_202_raw\tsmart_206_normalized\tsmart_206_raw\tsmart_210_normalized\tsmart_210_raw\tsmart_245_normalized\tsmart_245_raw\tsmart_247_normalized\tsmart_247_raw\tsmart_248_normalized\tsmart_248_raw\tsmart_234_normalized\tsmart_234_raw\tsmart_160_normalized\tsmart_160_raw\tsmart_161_normalized\tsmart_161_raw\tsmart_163_normalized\tsmart_163_raw\tsmart_164_normalized\tsmart_164_raw\tsmart_165_normalized\tsmart_165_raw\tsmart_166_normalized\tsmart_166_raw\tsmart_167_normalized\tsmart_167_raw\tsmart_169_normalized\tsmart_169_raw\tsmart_176_normalized\tsmart_176_raw\tsmart_178_normalized\tsmart_178_raw\tsmart_171_normalized\tsmart_171_raw\tsmart_172_normalized\tsmart_172_raw\tsmart_230_normalized\tsmart_230_raw\tsmart_244_normalized\tsmart_244_raw\tsmart_246_normalized\tsmart_246_raw\tvault_id\tpod_id\tis_legacy_format\tsmart_71_normalized\tsmart_71_raw\tsmart_90_normalized\tsmart_90_raw\tdatacenter\tcluster_id\tpod_slot_num\tsmart_82_normalized\tsmart_82_raw\tsmart_27_normalized\tsmart_27_raw\tsmart_211_normalized\tsmart_211_raw\tsmart_212_normalized\tsmart_212_raw\n",
      "2022-07-02\t2BJD0HDD\tWDC WUH721816ALE6L0\t16000900661248\t0\t0\t0\t3594\t34\t0\t100\t100\t92\t84\t330\t100\t15\t100\t100\t0\t100\t15\t100\t100\t0\t100\t15\tNone\tNone\tNone\tNone\tNone\tNone\tNone\tNone\tNone\tNone\tNone\tNone\t100\t429\t100\t429\t60\tNone\tNone\t100\t0\t100\t100\t0\t100\t0\tNone\tNone\t100\t88227054551\t100\t116061237237\tNone\tNone\tNone\tNone\tNone\tNone\tNone\tNone\tNone\tNone\tNone\tNone\tNone\tNone\t100\t0\tNone\tNone\tNone\tNone\tNone\tNone\tNone\tNone\tNone\tNone\t100\t100\tNone\tNone\tNone\tNone\tNone\tNone\tNone\tNone\tNone\tNone\tNone\tNone\tNone\tNone\tNone\tNone\tNone\tNone\tNone\tNone\tNone\tNone\tNone\tNone\tNone\tNone\tNone\tNone\tNone\tNone\tNone\tNone\tNone\tNone\tNone\tNone\tNone\tNone\tNone\tNone\tNone\tNone\tNone\tNone\tNone\tNone\tNone\tNone\tNone\tNone\tNone\tNone\tNone\tNone\tNone\tNone\tNone\tNone\tNone\tNone\tNone\tNone\tNone\tNone\tNone\tNone\tNone\tNone\tNone\tNone\tNone\tNone\tNone\tNone\tNone\tNone\tNone\tNone\tNone\tNone\tNone\tNone\tNone\tNone\tNone\tNone\tNone\tNone\tNone\tNone\tNone\tNone\tNone\tNone\tNone\tNone\tNone\tNone\tNone\tNone\tNone\tNone\tNone\tNone\tNone\tNone\tNone\tNone\tNone\tNone\n",
      "2022-07-02\t2BJD0JSD\tWDC WUH721816ALE6L0\t16000900661248\t0\t0\t0\t3590\t30\t0\t100\t100\t128\t84\t327\t100\t15\t100\t100\t0\t100\t15\t100\t100\t0\t100\t15\tNone\tNone\tNone\tNone\tNone\tNone\tNone\tNone\tNone\tNone\tNone\tNone\t100\t439\t100\t439\t65\tNone\tNone\t100\t0\t100\t100\t0\t100\t0\tNone\tNone\t100\t85278726399\t100\t111475192694\tNone\tNone\tNone\tNone\tNone\tNone\tNone\tNone\tNone\tNone\tNone\tNone\tNone\tNone\t100\t0\tNone\tNone\tNone\tNone\tNone\tNone\tNone\tNone\tNone\tNone\t100\t100\tNone\tNone\tNone\tNone\tNone\tNone\tNone\tNone\tNone\tNone\tNone\tNone\tNone\tNone\tNone\tNone\tNone\tNone\tNone\tNone\tNone\tNone\tNone\tNone\tNone\tNone\tNone\tNone\tNone\tNone\tNone\tNone\tNone\tNone\tNone\tNone\tNone\tNone\tNone\tNone\tNone\tNone\tNone\tNone\tNone\tNone\tNone\tNone\tNone\tNone\tNone\tNone\tNone\tNone\tNone\tNone\tNone\tNone\tNone\tNone\tNone\tNone\tNone\tNone\tNone\tNone\tNone\tNone\tNone\tNone\tNone\tNone\tNone\tNone\tNone\tNone\tNone\tNone\tNone\tNone\tNone\tNone\tNone\tNone\tNone\tNone\tNone\tNone\tNone\tNone\tNone\tNone\tNone\tNone\tNone\tNone\tNone\tNone\tNone\tNone\tNone\tNone\tNone\tNone\tNone\tNone\tNone\tNone\tNone\tNone\n",
      "2022-07-02\t2BJD0MED\tWDC WUH721816ALE6L0\t16000900661248\t0\t0\t0\t3589\t30\t0\t100\t100\t96\t84\t330\t100\t15\t100\t100\t0\t100\t15\t100\t100\t0\t100\t15\tNone\tNone\tNone\tNone\tNone\tNone\tNone\tNone\tNone\tNone\tNone\tNone\t100\t417\t100\t417\t65\tNone\tNone\t100\t0\t100\t100\t0\t100\t0\tNone\tNone\t100\t87935828295\t100\t116855906917\tNone\tNone\tNone\tNone\tNone\tNone\tNone\tNone\tNone\tNone\tNone\tNone\tNone\tNone\t100\t0\tNone\tNone\tNone\tNone\tNone\tNone\tNone\tNone\tNone\tNone\t100\t100\tNone\tNone\tNone\tNone\tNone\tNone\tNone\tNone\tNone\tNone\tNone\tNone\tNone\tNone\tNone\tNone\tNone\tNone\tNone\tNone\tNone\tNone\tNone\tNone\tNone\tNone\tNone\tNone\tNone\tNone\tNone\tNone\tNone\tNone\tNone\tNone\tNone\tNone\tNone\tNone\tNone\tNone\tNone\tNone\tNone\tNone\tNone\tNone\tNone\tNone\tNone\tNone\tNone\tNone\tNone\tNone\tNone\tNone\tNone\tNone\tNone\tNone\tNone\tNone\tNone\tNone\tNone\tNone\tNone\tNone\tNone\tNone\tNone\tNone\tNone\tNone\tNone\tNone\tNone\tNone\tNone\tNone\tNone\tNone\tNone\tNone\tNone\tNone\tNone\tNone\tNone\tNone\tNone\tNone\tNone\tNone\tNone\tNone\tNone\tNone\tNone\tNone\tNone\tNone\tNone\tNone\tNone\tNone\tNone\tNone\n",
      "*/\n",
      "==================================\u001B[1m Ai Message \u001B[0m==================================\n",
      "Tool Calls:\n",
      "  sql_db_query_checker (call_tCZIoE6zPUcY3SXObqCggpPL)\n",
      " Call ID: call_tCZIoE6zPUcY3SXObqCggpPL\n",
      "  Args:\n",
      "    query: SELECT datacenter, COUNT(DISTINCT serial_number) as drive_count FROM drivestats WHERE date = '2024-09-01' GROUP BY datacenter ORDER BY drive_count DESC\n",
      "=================================\u001B[1m Tool Message \u001B[0m=================================\n",
      "Name: sql_db_query_checker\n",
      "\n",
      "```sql\n",
      "SELECT datacenter, COUNT(DISTINCT serial_number) as drive_count \n",
      "FROM drivestats \n",
      "WHERE date = '2024-09-01' \n",
      "GROUP BY datacenter \n",
      "ORDER BY drive_count DESC\n",
      "```\n",
      "==================================\u001B[1m Ai Message \u001B[0m==================================\n",
      "Tool Calls:\n",
      "  sql_db_query (call_pKkSuRKuB3pqYslKuaI2T8Bd)\n",
      " Call ID: call_pKkSuRKuB3pqYslKuaI2T8Bd\n",
      "  Args:\n",
      "    query: SELECT datacenter, COUNT(DISTINCT serial_number) as drive_count FROM drivestats WHERE date = '2024-09-01' GROUP BY datacenter ORDER BY drive_count DESC\n",
      "=================================\u001B[1m Tool Message \u001B[0m=================================\n",
      "Name: sql_db_query\n",
      "\n",
      "Error: (trino.exceptions.TrinoUserError) TrinoUserError(type=USER_ERROR, name=TYPE_MISMATCH, message=\"line 1:92: Cannot apply operator: date = varchar(10)\", query_id=20250220_185038_00179_apixv)\n",
      "[SQL: SELECT datacenter, COUNT(DISTINCT serial_number) as drive_count FROM drivestats WHERE date = '2024-09-01' GROUP BY datacenter ORDER BY drive_count DESC]\n",
      "(Background on this error at: https://sqlalche.me/e/20/f405)\n",
      "==================================\u001B[1m Ai Message \u001B[0m==================================\n",
      "Tool Calls:\n",
      "  sql_db_query_checker (call_qWazBJ8ATE6WyAWSFo7kziyH)\n",
      " Call ID: call_qWazBJ8ATE6WyAWSFo7kziyH\n",
      "  Args:\n",
      "    query: SELECT datacenter, COUNT(DISTINCT serial_number) as drive_count FROM drivestats WHERE date = DATE '2024-09-01' GROUP BY datacenter ORDER BY drive_count DESC\n",
      "=================================\u001B[1m Tool Message \u001B[0m=================================\n",
      "Name: sql_db_query_checker\n",
      "\n",
      "```sql\n",
      "SELECT datacenter, COUNT(DISTINCT serial_number) as drive_count \n",
      "FROM drivestats \n",
      "WHERE date = DATE '2024-09-01' \n",
      "GROUP BY datacenter \n",
      "ORDER BY drive_count DESC\n",
      "```\n",
      "==================================\u001B[1m Ai Message \u001B[0m==================================\n",
      "Tool Calls:\n",
      "  sql_db_query (call_UKaAXvTFhggl42LFCJjpgirW)\n",
      " Call ID: call_UKaAXvTFhggl42LFCJjpgirW\n",
      "  Args:\n",
      "    query: SELECT datacenter, COUNT(DISTINCT serial_number) as drive_count FROM drivestats WHERE date = DATE '2024-09-01' GROUP BY datacenter ORDER BY drive_count DESC\n",
      "=================================\u001B[1m Tool Message \u001B[0m=================================\n",
      "Name: sql_db_query\n",
      "\n",
      "[('phx1', 89477), ('sac0', 78444), ('sac2', 60775), ('', 24080), ('iad1', 22800), ('ams5', 16139)]\n",
      "==================================\u001B[1m Ai Message \u001B[0m==================================\n",
      "\n",
      "On September 1, 2024, the drive counts by data center were as follows:\n",
      "\n",
      "- **phx1**: 89,477 drives\n",
      "- **sac0**: 78,444 drives\n",
      "- **sac2**: 60,775 drives\n",
      "- **(empty)**: 24,080 drives\n",
      "- **iad1**: 22,800 drives\n",
      "- **ams5**: 16,139 drives\n"
     ]
    }
   ],
   "execution_count": 21
  },
  {
   "metadata": {},
   "cell_type": "markdown",
   "source": [
    "Execution cycles between the `agent` and `tools` steps several times, generating and executing queries, before it generates its final, correct answer.\n",
    "\n",
    "Now let’s see if the model can calculate the annualized failure rate of a drive model. We’ll use the Seagate ST4000DM000, just because that is the drive model with the most days of operation in the dataset."
   ],
   "id": "5aff4dd64a251d3f"
  },
  {
   "metadata": {
    "ExecuteTime": {
     "end_time": "2025-02-20T18:51:33.177376Z",
     "start_time": "2025-02-20T18:50:46.538152Z"
    }
   },
   "cell_type": "code",
   "source": [
    "for step in agent_executor.stream(\n",
    "        {\"messages\": [{\"role\": \"user\", \"content\": \"Each drive has its own serial number. What is the annualized failure rate of the ST4000DM000 drive model?\"}]},\n",
    "        stream_mode=\"values\",\n",
    "):\n",
    "    step[\"messages\"][-1].pretty_print()"
   ],
   "id": "84609d1c1afec406",
   "outputs": [
    {
     "name": "stdout",
     "output_type": "stream",
     "text": [
      "================================\u001B[1m Human Message \u001B[0m=================================\n",
      "\n",
      "Each drive has its own serial number. What is the annualized failure rate of the ST4000DM000 drive model?\n",
      "==================================\u001B[1m Ai Message \u001B[0m==================================\n",
      "Tool Calls:\n",
      "  sql_db_list_tables (call_C2NZjn5ztl7Sa12BOXUtbPEy)\n",
      " Call ID: call_C2NZjn5ztl7Sa12BOXUtbPEy\n",
      "  Args:\n",
      "=================================\u001B[1m Tool Message \u001B[0m=================================\n",
      "Name: sql_db_list_tables\n",
      "\n",
      "drivestats\n",
      "==================================\u001B[1m Ai Message \u001B[0m==================================\n",
      "Tool Calls:\n",
      "  sql_db_schema (call_jl4yMfvV3aF4wWtyp0vWjGkf)\n",
      " Call ID: call_jl4yMfvV3aF4wWtyp0vWjGkf\n",
      "  Args:\n",
      "    table_names: drivestats\n",
      "=================================\u001B[1m Tool Message \u001B[0m=================================\n",
      "Name: sql_db_schema\n",
      "\n",
      "\n",
      "CREATE TABLE drivestats (\n",
      "\tdate DATE, \n",
      "\tserial_number VARCHAR, \n",
      "\tmodel VARCHAR, \n",
      "\tcapacity_bytes BIGINT, \n",
      "\tfailure INTEGER, \n",
      "\tsmart_1_raw BIGINT, \n",
      "\tsmart_5_raw BIGINT, \n",
      "\tsmart_9_raw BIGINT, \n",
      "\tsmart_194_raw BIGINT, \n",
      "\tsmart_197_raw BIGINT, \n",
      "\tsmart_1_normalized BIGINT, \n",
      "\tsmart_2_normalized BIGINT, \n",
      "\tsmart_2_raw BIGINT, \n",
      "\tsmart_3_normalized BIGINT, \n",
      "\tsmart_3_raw BIGINT, \n",
      "\tsmart_4_normalized BIGINT, \n",
      "\tsmart_4_raw BIGINT, \n",
      "\tsmart_5_normalized BIGINT, \n",
      "\tsmart_7_normalized BIGINT, \n",
      "\tsmart_7_raw BIGINT, \n",
      "\tsmart_8_normalized BIGINT, \n",
      "\tsmart_8_raw BIGINT, \n",
      "\tsmart_9_normalized BIGINT, \n",
      "\tsmart_10_normalized BIGINT, \n",
      "\tsmart_10_raw BIGINT, \n",
      "\tsmart_12_normalized BIGINT, \n",
      "\tsmart_12_raw BIGINT, \n",
      "\tsmart_184_normalized BIGINT, \n",
      "\tsmart_184_raw BIGINT, \n",
      "\tsmart_187_normalized BIGINT, \n",
      "\tsmart_187_raw BIGINT, \n",
      "\tsmart_188_normalized BIGINT, \n",
      "\tsmart_188_raw BIGINT, \n",
      "\tsmart_189_normalized BIGINT, \n",
      "\tsmart_189_raw BIGINT, \n",
      "\tsmart_190_normalized BIGINT, \n",
      "\tsmart_190_raw BIGINT, \n",
      "\tsmart_191_normalized BIGINT, \n",
      "\tsmart_191_raw BIGINT, \n",
      "\tsmart_192_normalized BIGINT, \n",
      "\tsmart_192_raw BIGINT, \n",
      "\tsmart_193_normalized BIGINT, \n",
      "\tsmart_193_raw BIGINT, \n",
      "\tsmart_194_normalized BIGINT, \n",
      "\tsmart_195_normalized BIGINT, \n",
      "\tsmart_195_raw BIGINT, \n",
      "\tsmart_196_normalized BIGINT, \n",
      "\tsmart_196_raw BIGINT, \n",
      "\tsmart_197_normalized BIGINT, \n",
      "\tsmart_198_normalized BIGINT, \n",
      "\tsmart_198_raw BIGINT, \n",
      "\tsmart_199_normalized BIGINT, \n",
      "\tsmart_199_raw BIGINT, \n",
      "\tsmart_240_normalized BIGINT, \n",
      "\tsmart_240_raw BIGINT, \n",
      "\tsmart_241_normalized BIGINT, \n",
      "\tsmart_241_raw BIGINT, \n",
      "\tsmart_242_normalized BIGINT, \n",
      "\tsmart_242_raw BIGINT, \n",
      "\tsmart_250_normalized BIGINT, \n",
      "\tsmart_250_raw BIGINT, \n",
      "\tsmart_251_normalized BIGINT, \n",
      "\tsmart_251_raw BIGINT, \n",
      "\tsmart_252_normalized BIGINT, \n",
      "\tsmart_252_raw BIGINT, \n",
      "\tsmart_254_normalized BIGINT, \n",
      "\tsmart_254_raw BIGINT, \n",
      "\tsmart_11_normalized BIGINT, \n",
      "\tsmart_11_raw BIGINT, \n",
      "\tsmart_183_normalized BIGINT, \n",
      "\tsmart_183_raw BIGINT, \n",
      "\tsmart_200_normalized BIGINT, \n",
      "\tsmart_200_raw BIGINT, \n",
      "\tsmart_223_normalized BIGINT, \n",
      "\tsmart_223_raw BIGINT, \n",
      "\tsmart_225_normalized BIGINT, \n",
      "\tsmart_225_raw BIGINT, \n",
      "\tsmart_13_normalized BIGINT, \n",
      "\tsmart_13_raw BIGINT, \n",
      "\tsmart_201_normalized BIGINT, \n",
      "\tsmart_201_raw BIGINT, \n",
      "\tsmart_15_normalized BIGINT, \n",
      "\tsmart_15_raw BIGINT, \n",
      "\tsmart_255_normalized BIGINT, \n",
      "\tsmart_255_raw BIGINT, \n",
      "\tsmart_22_normalized BIGINT, \n",
      "\tsmart_22_raw BIGINT, \n",
      "\tsmart_220_normalized BIGINT, \n",
      "\tsmart_220_raw BIGINT, \n",
      "\tsmart_222_normalized BIGINT, \n",
      "\tsmart_222_raw BIGINT, \n",
      "\tsmart_224_normalized BIGINT, \n",
      "\tsmart_224_raw BIGINT, \n",
      "\tsmart_226_normalized BIGINT, \n",
      "\tsmart_226_raw BIGINT, \n",
      "\tsmart_177_normalized BIGINT, \n",
      "\tsmart_177_raw BIGINT, \n",
      "\tsmart_179_normalized BIGINT, \n",
      "\tsmart_179_raw BIGINT, \n",
      "\tsmart_181_normalized BIGINT, \n",
      "\tsmart_181_raw BIGINT, \n",
      "\tsmart_182_normalized BIGINT, \n",
      "\tsmart_182_raw BIGINT, \n",
      "\tsmart_235_normalized BIGINT, \n",
      "\tsmart_235_raw BIGINT, \n",
      "\tsmart_23_normalized BIGINT, \n",
      "\tsmart_23_raw BIGINT, \n",
      "\tsmart_24_normalized BIGINT, \n",
      "\tsmart_24_raw BIGINT, \n",
      "\tsmart_16_normalized BIGINT, \n",
      "\tsmart_16_raw BIGINT, \n",
      "\tsmart_17_normalized BIGINT, \n",
      "\tsmart_17_raw BIGINT, \n",
      "\tsmart_168_normalized BIGINT, \n",
      "\tsmart_168_raw BIGINT, \n",
      "\tsmart_170_normalized BIGINT, \n",
      "\tsmart_170_raw BIGINT, \n",
      "\tsmart_173_normalized BIGINT, \n",
      "\tsmart_173_raw BIGINT, \n",
      "\tsmart_174_normalized BIGINT, \n",
      "\tsmart_174_raw BIGINT, \n",
      "\tsmart_218_normalized BIGINT, \n",
      "\tsmart_218_raw BIGINT, \n",
      "\tsmart_231_normalized BIGINT, \n",
      "\tsmart_231_raw BIGINT, \n",
      "\tsmart_232_normalized BIGINT, \n",
      "\tsmart_232_raw BIGINT, \n",
      "\tsmart_233_normalized BIGINT, \n",
      "\tsmart_233_raw BIGINT, \n",
      "\tsmart_18_normalized BIGINT, \n",
      "\tsmart_18_raw BIGINT, \n",
      "\tsmart_175_normalized BIGINT, \n",
      "\tsmart_175_raw BIGINT, \n",
      "\tsmart_180_normalized BIGINT, \n",
      "\tsmart_180_raw BIGINT, \n",
      "\tsmart_202_normalized BIGINT, \n",
      "\tsmart_202_raw BIGINT, \n",
      "\tsmart_206_normalized BIGINT, \n",
      "\tsmart_206_raw BIGINT, \n",
      "\tsmart_210_normalized BIGINT, \n",
      "\tsmart_210_raw BIGINT, \n",
      "\tsmart_245_normalized BIGINT, \n",
      "\tsmart_245_raw BIGINT, \n",
      "\tsmart_247_normalized BIGINT, \n",
      "\tsmart_247_raw BIGINT, \n",
      "\tsmart_248_normalized BIGINT, \n",
      "\tsmart_248_raw BIGINT, \n",
      "\tsmart_234_normalized BIGINT, \n",
      "\tsmart_234_raw BIGINT, \n",
      "\tsmart_160_normalized BIGINT, \n",
      "\tsmart_160_raw BIGINT, \n",
      "\tsmart_161_normalized BIGINT, \n",
      "\tsmart_161_raw BIGINT, \n",
      "\tsmart_163_normalized BIGINT, \n",
      "\tsmart_163_raw BIGINT, \n",
      "\tsmart_164_normalized BIGINT, \n",
      "\tsmart_164_raw BIGINT, \n",
      "\tsmart_165_normalized BIGINT, \n",
      "\tsmart_165_raw BIGINT, \n",
      "\tsmart_166_normalized BIGINT, \n",
      "\tsmart_166_raw BIGINT, \n",
      "\tsmart_167_normalized BIGINT, \n",
      "\tsmart_167_raw BIGINT, \n",
      "\tsmart_169_normalized BIGINT, \n",
      "\tsmart_169_raw BIGINT, \n",
      "\tsmart_176_normalized BIGINT, \n",
      "\tsmart_176_raw BIGINT, \n",
      "\tsmart_178_normalized BIGINT, \n",
      "\tsmart_178_raw BIGINT, \n",
      "\tsmart_171_normalized BIGINT, \n",
      "\tsmart_171_raw BIGINT, \n",
      "\tsmart_172_normalized BIGINT, \n",
      "\tsmart_172_raw BIGINT, \n",
      "\tsmart_230_normalized BIGINT, \n",
      "\tsmart_230_raw BIGINT, \n",
      "\tsmart_244_normalized BIGINT, \n",
      "\tsmart_244_raw BIGINT, \n",
      "\tsmart_246_normalized BIGINT, \n",
      "\tsmart_246_raw BIGINT, \n",
      "\tvault_id VARCHAR, \n",
      "\tpod_id INTEGER, \n",
      "\tis_legacy_format INTEGER, \n",
      "\tsmart_71_normalized BIGINT, \n",
      "\tsmart_71_raw BIGINT, \n",
      "\tsmart_90_normalized BIGINT, \n",
      "\tsmart_90_raw BIGINT, \n",
      "\tdatacenter VARCHAR, \n",
      "\tcluster_id VARCHAR, \n",
      "\tpod_slot_num INTEGER, \n",
      "\tsmart_82_normalized BIGINT, \n",
      "\tsmart_82_raw BIGINT, \n",
      "\tsmart_27_normalized BIGINT, \n",
      "\tsmart_27_raw BIGINT, \n",
      "\tsmart_211_normalized BIGINT, \n",
      "\tsmart_211_raw BIGINT, \n",
      "\tsmart_212_normalized BIGINT, \n",
      "\tsmart_212_raw BIGINT\n",
      ")\n",
      "\n",
      "/*\n",
      "3 rows from drivestats table:\n",
      "date\tserial_number\tmodel\tcapacity_bytes\tfailure\tsmart_1_raw\tsmart_5_raw\tsmart_9_raw\tsmart_194_raw\tsmart_197_raw\tsmart_1_normalized\tsmart_2_normalized\tsmart_2_raw\tsmart_3_normalized\tsmart_3_raw\tsmart_4_normalized\tsmart_4_raw\tsmart_5_normalized\tsmart_7_normalized\tsmart_7_raw\tsmart_8_normalized\tsmart_8_raw\tsmart_9_normalized\tsmart_10_normalized\tsmart_10_raw\tsmart_12_normalized\tsmart_12_raw\tsmart_184_normalized\tsmart_184_raw\tsmart_187_normalized\tsmart_187_raw\tsmart_188_normalized\tsmart_188_raw\tsmart_189_normalized\tsmart_189_raw\tsmart_190_normalized\tsmart_190_raw\tsmart_191_normalized\tsmart_191_raw\tsmart_192_normalized\tsmart_192_raw\tsmart_193_normalized\tsmart_193_raw\tsmart_194_normalized\tsmart_195_normalized\tsmart_195_raw\tsmart_196_normalized\tsmart_196_raw\tsmart_197_normalized\tsmart_198_normalized\tsmart_198_raw\tsmart_199_normalized\tsmart_199_raw\tsmart_240_normalized\tsmart_240_raw\tsmart_241_normalized\tsmart_241_raw\tsmart_242_normalized\tsmart_242_raw\tsmart_250_normalized\tsmart_250_raw\tsmart_251_normalized\tsmart_251_raw\tsmart_252_normalized\tsmart_252_raw\tsmart_254_normalized\tsmart_254_raw\tsmart_11_normalized\tsmart_11_raw\tsmart_183_normalized\tsmart_183_raw\tsmart_200_normalized\tsmart_200_raw\tsmart_223_normalized\tsmart_223_raw\tsmart_225_normalized\tsmart_225_raw\tsmart_13_normalized\tsmart_13_raw\tsmart_201_normalized\tsmart_201_raw\tsmart_15_normalized\tsmart_15_raw\tsmart_255_normalized\tsmart_255_raw\tsmart_22_normalized\tsmart_22_raw\tsmart_220_normalized\tsmart_220_raw\tsmart_222_normalized\tsmart_222_raw\tsmart_224_normalized\tsmart_224_raw\tsmart_226_normalized\tsmart_226_raw\tsmart_177_normalized\tsmart_177_raw\tsmart_179_normalized\tsmart_179_raw\tsmart_181_normalized\tsmart_181_raw\tsmart_182_normalized\tsmart_182_raw\tsmart_235_normalized\tsmart_235_raw\tsmart_23_normalized\tsmart_23_raw\tsmart_24_normalized\tsmart_24_raw\tsmart_16_normalized\tsmart_16_raw\tsmart_17_normalized\tsmart_17_raw\tsmart_168_normalized\tsmart_168_raw\tsmart_170_normalized\tsmart_170_raw\tsmart_173_normalized\tsmart_173_raw\tsmart_174_normalized\tsmart_174_raw\tsmart_218_normalized\tsmart_218_raw\tsmart_231_normalized\tsmart_231_raw\tsmart_232_normalized\tsmart_232_raw\tsmart_233_normalized\tsmart_233_raw\tsmart_18_normalized\tsmart_18_raw\tsmart_175_normalized\tsmart_175_raw\tsmart_180_normalized\tsmart_180_raw\tsmart_202_normalized\tsmart_202_raw\tsmart_206_normalized\tsmart_206_raw\tsmart_210_normalized\tsmart_210_raw\tsmart_245_normalized\tsmart_245_raw\tsmart_247_normalized\tsmart_247_raw\tsmart_248_normalized\tsmart_248_raw\tsmart_234_normalized\tsmart_234_raw\tsmart_160_normalized\tsmart_160_raw\tsmart_161_normalized\tsmart_161_raw\tsmart_163_normalized\tsmart_163_raw\tsmart_164_normalized\tsmart_164_raw\tsmart_165_normalized\tsmart_165_raw\tsmart_166_normalized\tsmart_166_raw\tsmart_167_normalized\tsmart_167_raw\tsmart_169_normalized\tsmart_169_raw\tsmart_176_normalized\tsmart_176_raw\tsmart_178_normalized\tsmart_178_raw\tsmart_171_normalized\tsmart_171_raw\tsmart_172_normalized\tsmart_172_raw\tsmart_230_normalized\tsmart_230_raw\tsmart_244_normalized\tsmart_244_raw\tsmart_246_normalized\tsmart_246_raw\tvault_id\tpod_id\tis_legacy_format\tsmart_71_normalized\tsmart_71_raw\tsmart_90_normalized\tsmart_90_raw\tdatacenter\tcluster_id\tpod_slot_num\tsmart_82_normalized\tsmart_82_raw\tsmart_27_normalized\tsmart_27_raw\tsmart_211_normalized\tsmart_211_raw\tsmart_212_normalized\tsmart_212_raw\n",
      "2022-07-16\tZL005DMV\tST12000NM0008\t12000138625024\t0\t243882184\t0\t17064\t31\t0\t84\tNone\tNone\t95\t0\t100\t4\t100\t90\t957131664\tNone\tNone\t81\t100\t0\t100\t4\tNone\tNone\t100\t0\t100\t0\tNone\tNone\t69\t31\tNone\tNone\t100\t2\t100\t995\t31\t1\t243882184\tNone\tNone\t100\t100\t0\t200\t0\t100\t16899\t100\t59299500320\t100\t207061302328\tNone\tNone\tNone\tNone\tNone\tNone\tNone\tNone\tNone\tNone\tNone\tNone\t100\t0\tNone\tNone\tNone\tNone\tNone\tNone\tNone\tNone\tNone\tNone\tNone\tNone\tNone\tNone\tNone\tNone\tNone\tNone\tNone\tNone\tNone\tNone\tNone\tNone\tNone\tNone\tNone\tNone\tNone\tNone\tNone\tNone\tNone\tNone\tNone\tNone\tNone\tNone\tNone\tNone\tNone\tNone\tNone\tNone\tNone\tNone\tNone\tNone\tNone\tNone\tNone\tNone\tNone\tNone\tNone\tNone\t100\t0\tNone\tNone\tNone\tNone\tNone\tNone\tNone\tNone\tNone\tNone\tNone\tNone\tNone\tNone\tNone\tNone\tNone\tNone\tNone\tNone\tNone\tNone\tNone\tNone\tNone\tNone\tNone\tNone\tNone\tNone\tNone\tNone\tNone\tNone\tNone\tNone\tNone\tNone\tNone\tNone\tNone\tNone\tNone\tNone\tNone\tNone\tNone\tNone\tNone\tNone\tNone\tNone\tNone\tNone\tNone\tNone\tNone\tNone\tNone\tNone\tNone\tNone\tNone\tNone\tNone\tNone\n",
      "2022-07-16\tZL005E0M\tST12000NM0008\t12000138625024\t0\t238915344\t0\t17065\t30\t0\t84\tNone\tNone\t95\t0\t100\t4\t100\t89\t860133364\tNone\tNone\t81\t100\t0\t100\t4\tNone\tNone\t100\t0\t100\t0\tNone\tNone\t70\t30\tNone\tNone\t100\t2\t100\t1020\t30\t1\t238915344\tNone\tNone\t100\t100\t0\t200\t0\t100\t16892\t100\t59170369264\t100\t206452819664\tNone\tNone\tNone\tNone\tNone\tNone\tNone\tNone\tNone\tNone\tNone\tNone\t100\t0\tNone\tNone\tNone\tNone\tNone\tNone\tNone\tNone\tNone\tNone\tNone\tNone\tNone\tNone\tNone\tNone\tNone\tNone\tNone\tNone\tNone\tNone\tNone\tNone\tNone\tNone\tNone\tNone\tNone\tNone\tNone\tNone\tNone\tNone\tNone\tNone\tNone\tNone\tNone\tNone\tNone\tNone\tNone\tNone\tNone\tNone\tNone\tNone\tNone\tNone\tNone\tNone\tNone\tNone\tNone\tNone\t100\t0\tNone\tNone\tNone\tNone\tNone\tNone\tNone\tNone\tNone\tNone\tNone\tNone\tNone\tNone\tNone\tNone\tNone\tNone\tNone\tNone\tNone\tNone\tNone\tNone\tNone\tNone\tNone\tNone\tNone\tNone\tNone\tNone\tNone\tNone\tNone\tNone\tNone\tNone\tNone\tNone\tNone\tNone\tNone\tNone\tNone\tNone\tNone\tNone\tNone\tNone\tNone\tNone\tNone\tNone\tNone\tNone\tNone\tNone\tNone\tNone\tNone\tNone\tNone\tNone\tNone\tNone\n",
      "2022-07-16\tZL005E2Y\tST12000NM0008\t12000138625024\t0\t220713088\t0\t17065\t30\t0\t83\tNone\tNone\t95\t0\t100\t4\t100\t89\t874301038\tNone\tNone\t81\t100\t0\t100\t4\tNone\tNone\t100\t0\t100\t0\tNone\tNone\t70\t30\tNone\tNone\t100\t2\t100\t1005\t30\t1\t220713088\tNone\tNone\t100\t100\t0\t200\t0\t100\t16890\t100\t59221571608\t100\t186120192640\tNone\tNone\tNone\tNone\tNone\tNone\tNone\tNone\tNone\tNone\tNone\tNone\t100\t0\tNone\tNone\tNone\tNone\tNone\tNone\tNone\tNone\tNone\tNone\tNone\tNone\tNone\tNone\tNone\tNone\tNone\tNone\tNone\tNone\tNone\tNone\tNone\tNone\tNone\tNone\tNone\tNone\tNone\tNone\tNone\tNone\tNone\tNone\tNone\tNone\tNone\tNone\tNone\tNone\tNone\tNone\tNone\tNone\tNone\tNone\tNone\tNone\tNone\tNone\tNone\tNone\tNone\tNone\tNone\tNone\t100\t0\tNone\tNone\tNone\tNone\tNone\tNone\tNone\tNone\tNone\tNone\tNone\tNone\tNone\tNone\tNone\tNone\tNone\tNone\tNone\tNone\tNone\tNone\tNone\tNone\tNone\tNone\tNone\tNone\tNone\tNone\tNone\tNone\tNone\tNone\tNone\tNone\tNone\tNone\tNone\tNone\tNone\tNone\tNone\tNone\tNone\tNone\tNone\tNone\tNone\tNone\tNone\tNone\tNone\tNone\tNone\tNone\tNone\tNone\tNone\tNone\tNone\tNone\tNone\tNone\tNone\tNone\n",
      "*/\n",
      "==================================\u001B[1m Ai Message \u001B[0m==================================\n",
      "Tool Calls:\n",
      "  sql_db_query (call_DwsAGeGerITflWXeqVZFbBRd)\n",
      " Call ID: call_DwsAGeGerITflWXeqVZFbBRd\n",
      "  Args:\n",
      "    query: SELECT COUNT(CASE WHEN failure = 1 THEN 1 END) AS failed_drives, COUNT(*) AS total_drives\n",
      "FROM drivestats\n",
      "WHERE model = 'ST4000DM000'\n",
      "=================================\u001B[1m Tool Message \u001B[0m=================================\n",
      "Name: sql_db_query\n",
      "\n",
      "[(5791, 80454295)]\n",
      "==================================\u001B[1m Ai Message \u001B[0m==================================\n",
      "Tool Calls:\n",
      "  sql_db_query (call_Pijj9LNrWRjjlFOhTEG88pDk)\n",
      " Call ID: call_Pijj9LNrWRjjlFOhTEG88pDk\n",
      "  Args:\n",
      "    query: SELECT EXTRACT(YEAR FROM date) AS year, COUNT(CASE WHEN failure = 1 THEN 1 END) AS failed_drives, COUNT(*) AS total_drives\n",
      "FROM drivestats\n",
      "WHERE model = 'ST4000DM000'\n",
      "GROUP BY year ORDER BY year\n",
      "=================================\u001B[1m Tool Message \u001B[0m=================================\n",
      "Name: sql_db_query\n",
      "\n",
      "Error: (trino.exceptions.TrinoUserError) TrinoUserError(type=USER_ERROR, name=COLUMN_NOT_FOUND, message=\"line 4:10: Column 'year' cannot be resolved\", query_id=20250220_185107_00183_apixv)\n",
      "[SQL: SELECT EXTRACT(YEAR FROM date) AS year, COUNT(CASE WHEN failure = 1 THEN 1 END) AS failed_drives, COUNT(*) AS total_drives\n",
      "FROM drivestats\n",
      "WHERE model = 'ST4000DM000'\n",
      "GROUP BY year ORDER BY year]\n",
      "(Background on this error at: https://sqlalche.me/e/20/f405)\n",
      "==================================\u001B[1m Ai Message \u001B[0m==================================\n",
      "Tool Calls:\n",
      "  sql_db_query (call_qZo3BDDQzYghauGR8s7eqk5c)\n",
      " Call ID: call_qZo3BDDQzYghauGR8s7eqk5c\n",
      "  Args:\n",
      "    query: SELECT YEAR(date) AS year, COUNT(CASE WHEN failure = 1 THEN 1 END) AS failed_drives, COUNT(*) AS total_drives\n",
      "FROM drivestats\n",
      "WHERE model = 'ST4000DM000'\n",
      "GROUP BY YEAR(date) ORDER BY year\n",
      "=================================\u001B[1m Tool Message \u001B[0m=================================\n",
      "Name: sql_db_query\n",
      "\n",
      "[(2013, 48, 419819), (2014, 237, 3371578), (2015, 586, 6782765), (2016, 939, 12393629), (2017, 1058, 12237899), (2018, 580, 9992362), (2019, 401, 7325582), (2020, 269, 6983470), (2021, 339, 6856981), (2022, 633, 6699353), (2023, 560, 6149337), (2024, 141, 1241520)]\n",
      "==================================\u001B[1m Ai Message \u001B[0m==================================\n",
      "\n",
      "The annualized failure rate (AFR) for the ST4000DM000 drive model is calculated by dividing the number of failed drives by the total number of drives for each year. Here are the results:\n",
      "\n",
      "- **2013**: 48 failed / 419,819 total = 0.0114 or 1.14%\n",
      "- **2014**: 237 failed / 3,371,578 total = 0.0070 or 0.70%\n",
      "- **2015**: 586 failed / 6,782,765 total = 0.0086 or 0.86%\n",
      "- **2016**: 939 failed / 12,393,629 total = 0.0076 or 0.76%\n",
      "- **2017**: 1,058 failed / 12,237,899 total = 0.0087 or 0.87%\n",
      "- **2018**: 580 failed / 9,992,362 total = 0.0058 or 0.58%\n",
      "- **2019**: 401 failed / 7,325,582 total = 0.0055 or 0.55%\n",
      "- **2020**: 269 failed / 6,983,470 total = 0.0038 or 0.38%\n",
      "- **2021**: 339 failed / 6,856,981 total = 0.0049 or 0.49%\n",
      "- **2022**: 633 failed / 6,699,353 total = 0.0094 or 0.94%\n",
      "- **2023**: 560 failed / 6,149,337 total = 0.0091 or 0.91%\n",
      "- **2024**: 141 failed / 1,241,520 total = 0.0113 or 1.13%\n",
      "\n",
      "From these calculations, you can observe the failure rates fluctuating over the years, with the highest AFR in 2017 at around 0.87% and more recent values hovering around 0.91% to 0.94%.\n"
     ]
    }
   ],
   "execution_count": 22
  },
  {
   "metadata": {},
   "cell_type": "markdown",
   "source": [
    "It’s impressive that the agent shows its working so comprehensively, but, unfortunately, it arrives at the wrong answer. Those drives were not all running for the entire span of the Drive Stats data set. The correct calculation involves determining the number of days with data for those drives and dividing it by 365 to get the correct number of years’ operation.\n",
    "\n",
    "It’s clear that the model is not able to answer questions on drive reliability given the data available to it so far. The solution lies in [prompt engineering](https://en.wikipedia.org/wiki/Prompt_engineering) - providing more context on the semantics of the data in the system prompt.\n",
    "\n",
    "We can extend the default AI agent system prompt template to include specific instructions on working with the Drive Stats data set:"
   ],
   "id": "5b324a80875b17ef"
  },
  {
   "metadata": {
    "ExecuteTime": {
     "end_time": "2025-02-20T18:51:33.196450Z",
     "start_time": "2025-02-20T18:51:33.193580Z"
    }
   },
   "cell_type": "code",
   "source": [
    "prompt_template.messages[0].prompt.template += \"\"\"\n",
    "Each row of the drivestats table records one day of a drive’s operation, and contains the serial number of a drive, its model name, capacity in bytes, whether it failed on that day, SMART attributes and identifiers for the slot, pod, vault, cluster and data center in which it is located.\n",
    "\n",
    "Use this calculation for the annualized failure rate (AFR) for a drive model over a given time period:\n",
    "\n",
    "1. **drive_days** is the number of rows for that model during the time period.\n",
    "2. **failures** is the number of rows for that model during the time period where **failure** is equal to 1.\n",
    "3. **annual failure rate** is 100 * (**failures** / (**drive_days** / 365)).\n",
    "\n",
    "Use double precision arithmetic in the calculation to avoid truncation errors. To convert an integer **i** to a double, use CAST(**i** AS DOUBLE)\n",
    "\n",
    "Note that the date column is a DATE type, not a string. Use the DATE type identifier when comparing the date column to a string.\n",
    "\n",
    "Do not add a semi-colon suffix to SQL queries.\"\"\""
   ],
   "id": "141533b9223ffe6",
   "outputs": [],
   "execution_count": 23
  },
  {
   "metadata": {},
   "cell_type": "markdown",
   "source": "We need to recreate the `system_message` and `agent_executor` with the new prompt template:",
   "id": "76a7fc4e46dbeae7"
  },
  {
   "metadata": {
    "ExecuteTime": {
     "end_time": "2025-02-20T18:51:33.228822Z",
     "start_time": "2025-02-20T18:51:33.216457Z"
    }
   },
   "cell_type": "code",
   "source": [
    "system_message = prompt_template.format(dialect=db.dialect, top_k=10)\n",
    "agent_executor = create_react_agent(llm, tools, state_modifier=system_message)"
   ],
   "id": "2260a9fb72788985",
   "outputs": [],
   "execution_count": 24
  },
  {
   "metadata": {},
   "cell_type": "markdown",
   "source": "Now, when we ask the same question on the annual failure rate of the ST4000DM000 drive model, the AI agent generates the correct SQL query and a more concise, and correct, final response.",
   "id": "41f6b470ff212338"
  },
  {
   "metadata": {
    "ExecuteTime": {
     "end_time": "2025-02-20T18:51:59.010216Z",
     "start_time": "2025-02-20T18:51:33.254600Z"
    }
   },
   "cell_type": "code",
   "source": [
    "for step in agent_executor.stream(\n",
    "        {\"messages\": [{\"role\": \"user\", \"content\": \"What is the annual failure rate of the ST4000DM000 drive model?\"}]},\n",
    "        stream_mode=\"values\",\n",
    "):\n",
    "    step[\"messages\"][-1].pretty_print()"
   ],
   "id": "138061e6bb252f53",
   "outputs": [
    {
     "name": "stdout",
     "output_type": "stream",
     "text": [
      "================================\u001B[1m Human Message \u001B[0m=================================\n",
      "\n",
      "What is the annual failure rate of the ST4000DM000 drive model?\n",
      "==================================\u001B[1m Ai Message \u001B[0m==================================\n",
      "Tool Calls:\n",
      "  sql_db_list_tables (call_oIsYlBEXcb6JiFj9Eo81RI2L)\n",
      " Call ID: call_oIsYlBEXcb6JiFj9Eo81RI2L\n",
      "  Args:\n",
      "=================================\u001B[1m Tool Message \u001B[0m=================================\n",
      "Name: sql_db_list_tables\n",
      "\n",
      "drivestats\n",
      "==================================\u001B[1m Ai Message \u001B[0m==================================\n",
      "Tool Calls:\n",
      "  sql_db_schema (call_hdXAlLwZhrUlCLgIsp3tALYn)\n",
      " Call ID: call_hdXAlLwZhrUlCLgIsp3tALYn\n",
      "  Args:\n",
      "    table_names: drivestats\n",
      "=================================\u001B[1m Tool Message \u001B[0m=================================\n",
      "Name: sql_db_schema\n",
      "\n",
      "\n",
      "CREATE TABLE drivestats (\n",
      "\tdate DATE, \n",
      "\tserial_number VARCHAR, \n",
      "\tmodel VARCHAR, \n",
      "\tcapacity_bytes BIGINT, \n",
      "\tfailure INTEGER, \n",
      "\tsmart_1_raw BIGINT, \n",
      "\tsmart_5_raw BIGINT, \n",
      "\tsmart_9_raw BIGINT, \n",
      "\tsmart_194_raw BIGINT, \n",
      "\tsmart_197_raw BIGINT, \n",
      "\tsmart_1_normalized BIGINT, \n",
      "\tsmart_2_normalized BIGINT, \n",
      "\tsmart_2_raw BIGINT, \n",
      "\tsmart_3_normalized BIGINT, \n",
      "\tsmart_3_raw BIGINT, \n",
      "\tsmart_4_normalized BIGINT, \n",
      "\tsmart_4_raw BIGINT, \n",
      "\tsmart_5_normalized BIGINT, \n",
      "\tsmart_7_normalized BIGINT, \n",
      "\tsmart_7_raw BIGINT, \n",
      "\tsmart_8_normalized BIGINT, \n",
      "\tsmart_8_raw BIGINT, \n",
      "\tsmart_9_normalized BIGINT, \n",
      "\tsmart_10_normalized BIGINT, \n",
      "\tsmart_10_raw BIGINT, \n",
      "\tsmart_12_normalized BIGINT, \n",
      "\tsmart_12_raw BIGINT, \n",
      "\tsmart_184_normalized BIGINT, \n",
      "\tsmart_184_raw BIGINT, \n",
      "\tsmart_187_normalized BIGINT, \n",
      "\tsmart_187_raw BIGINT, \n",
      "\tsmart_188_normalized BIGINT, \n",
      "\tsmart_188_raw BIGINT, \n",
      "\tsmart_189_normalized BIGINT, \n",
      "\tsmart_189_raw BIGINT, \n",
      "\tsmart_190_normalized BIGINT, \n",
      "\tsmart_190_raw BIGINT, \n",
      "\tsmart_191_normalized BIGINT, \n",
      "\tsmart_191_raw BIGINT, \n",
      "\tsmart_192_normalized BIGINT, \n",
      "\tsmart_192_raw BIGINT, \n",
      "\tsmart_193_normalized BIGINT, \n",
      "\tsmart_193_raw BIGINT, \n",
      "\tsmart_194_normalized BIGINT, \n",
      "\tsmart_195_normalized BIGINT, \n",
      "\tsmart_195_raw BIGINT, \n",
      "\tsmart_196_normalized BIGINT, \n",
      "\tsmart_196_raw BIGINT, \n",
      "\tsmart_197_normalized BIGINT, \n",
      "\tsmart_198_normalized BIGINT, \n",
      "\tsmart_198_raw BIGINT, \n",
      "\tsmart_199_normalized BIGINT, \n",
      "\tsmart_199_raw BIGINT, \n",
      "\tsmart_240_normalized BIGINT, \n",
      "\tsmart_240_raw BIGINT, \n",
      "\tsmart_241_normalized BIGINT, \n",
      "\tsmart_241_raw BIGINT, \n",
      "\tsmart_242_normalized BIGINT, \n",
      "\tsmart_242_raw BIGINT, \n",
      "\tsmart_250_normalized BIGINT, \n",
      "\tsmart_250_raw BIGINT, \n",
      "\tsmart_251_normalized BIGINT, \n",
      "\tsmart_251_raw BIGINT, \n",
      "\tsmart_252_normalized BIGINT, \n",
      "\tsmart_252_raw BIGINT, \n",
      "\tsmart_254_normalized BIGINT, \n",
      "\tsmart_254_raw BIGINT, \n",
      "\tsmart_11_normalized BIGINT, \n",
      "\tsmart_11_raw BIGINT, \n",
      "\tsmart_183_normalized BIGINT, \n",
      "\tsmart_183_raw BIGINT, \n",
      "\tsmart_200_normalized BIGINT, \n",
      "\tsmart_200_raw BIGINT, \n",
      "\tsmart_223_normalized BIGINT, \n",
      "\tsmart_223_raw BIGINT, \n",
      "\tsmart_225_normalized BIGINT, \n",
      "\tsmart_225_raw BIGINT, \n",
      "\tsmart_13_normalized BIGINT, \n",
      "\tsmart_13_raw BIGINT, \n",
      "\tsmart_201_normalized BIGINT, \n",
      "\tsmart_201_raw BIGINT, \n",
      "\tsmart_15_normalized BIGINT, \n",
      "\tsmart_15_raw BIGINT, \n",
      "\tsmart_255_normalized BIGINT, \n",
      "\tsmart_255_raw BIGINT, \n",
      "\tsmart_22_normalized BIGINT, \n",
      "\tsmart_22_raw BIGINT, \n",
      "\tsmart_220_normalized BIGINT, \n",
      "\tsmart_220_raw BIGINT, \n",
      "\tsmart_222_normalized BIGINT, \n",
      "\tsmart_222_raw BIGINT, \n",
      "\tsmart_224_normalized BIGINT, \n",
      "\tsmart_224_raw BIGINT, \n",
      "\tsmart_226_normalized BIGINT, \n",
      "\tsmart_226_raw BIGINT, \n",
      "\tsmart_177_normalized BIGINT, \n",
      "\tsmart_177_raw BIGINT, \n",
      "\tsmart_179_normalized BIGINT, \n",
      "\tsmart_179_raw BIGINT, \n",
      "\tsmart_181_normalized BIGINT, \n",
      "\tsmart_181_raw BIGINT, \n",
      "\tsmart_182_normalized BIGINT, \n",
      "\tsmart_182_raw BIGINT, \n",
      "\tsmart_235_normalized BIGINT, \n",
      "\tsmart_235_raw BIGINT, \n",
      "\tsmart_23_normalized BIGINT, \n",
      "\tsmart_23_raw BIGINT, \n",
      "\tsmart_24_normalized BIGINT, \n",
      "\tsmart_24_raw BIGINT, \n",
      "\tsmart_16_normalized BIGINT, \n",
      "\tsmart_16_raw BIGINT, \n",
      "\tsmart_17_normalized BIGINT, \n",
      "\tsmart_17_raw BIGINT, \n",
      "\tsmart_168_normalized BIGINT, \n",
      "\tsmart_168_raw BIGINT, \n",
      "\tsmart_170_normalized BIGINT, \n",
      "\tsmart_170_raw BIGINT, \n",
      "\tsmart_173_normalized BIGINT, \n",
      "\tsmart_173_raw BIGINT, \n",
      "\tsmart_174_normalized BIGINT, \n",
      "\tsmart_174_raw BIGINT, \n",
      "\tsmart_218_normalized BIGINT, \n",
      "\tsmart_218_raw BIGINT, \n",
      "\tsmart_231_normalized BIGINT, \n",
      "\tsmart_231_raw BIGINT, \n",
      "\tsmart_232_normalized BIGINT, \n",
      "\tsmart_232_raw BIGINT, \n",
      "\tsmart_233_normalized BIGINT, \n",
      "\tsmart_233_raw BIGINT, \n",
      "\tsmart_18_normalized BIGINT, \n",
      "\tsmart_18_raw BIGINT, \n",
      "\tsmart_175_normalized BIGINT, \n",
      "\tsmart_175_raw BIGINT, \n",
      "\tsmart_180_normalized BIGINT, \n",
      "\tsmart_180_raw BIGINT, \n",
      "\tsmart_202_normalized BIGINT, \n",
      "\tsmart_202_raw BIGINT, \n",
      "\tsmart_206_normalized BIGINT, \n",
      "\tsmart_206_raw BIGINT, \n",
      "\tsmart_210_normalized BIGINT, \n",
      "\tsmart_210_raw BIGINT, \n",
      "\tsmart_245_normalized BIGINT, \n",
      "\tsmart_245_raw BIGINT, \n",
      "\tsmart_247_normalized BIGINT, \n",
      "\tsmart_247_raw BIGINT, \n",
      "\tsmart_248_normalized BIGINT, \n",
      "\tsmart_248_raw BIGINT, \n",
      "\tsmart_234_normalized BIGINT, \n",
      "\tsmart_234_raw BIGINT, \n",
      "\tsmart_160_normalized BIGINT, \n",
      "\tsmart_160_raw BIGINT, \n",
      "\tsmart_161_normalized BIGINT, \n",
      "\tsmart_161_raw BIGINT, \n",
      "\tsmart_163_normalized BIGINT, \n",
      "\tsmart_163_raw BIGINT, \n",
      "\tsmart_164_normalized BIGINT, \n",
      "\tsmart_164_raw BIGINT, \n",
      "\tsmart_165_normalized BIGINT, \n",
      "\tsmart_165_raw BIGINT, \n",
      "\tsmart_166_normalized BIGINT, \n",
      "\tsmart_166_raw BIGINT, \n",
      "\tsmart_167_normalized BIGINT, \n",
      "\tsmart_167_raw BIGINT, \n",
      "\tsmart_169_normalized BIGINT, \n",
      "\tsmart_169_raw BIGINT, \n",
      "\tsmart_176_normalized BIGINT, \n",
      "\tsmart_176_raw BIGINT, \n",
      "\tsmart_178_normalized BIGINT, \n",
      "\tsmart_178_raw BIGINT, \n",
      "\tsmart_171_normalized BIGINT, \n",
      "\tsmart_171_raw BIGINT, \n",
      "\tsmart_172_normalized BIGINT, \n",
      "\tsmart_172_raw BIGINT, \n",
      "\tsmart_230_normalized BIGINT, \n",
      "\tsmart_230_raw BIGINT, \n",
      "\tsmart_244_normalized BIGINT, \n",
      "\tsmart_244_raw BIGINT, \n",
      "\tsmart_246_normalized BIGINT, \n",
      "\tsmart_246_raw BIGINT, \n",
      "\tvault_id VARCHAR, \n",
      "\tpod_id INTEGER, \n",
      "\tis_legacy_format INTEGER, \n",
      "\tsmart_71_normalized BIGINT, \n",
      "\tsmart_71_raw BIGINT, \n",
      "\tsmart_90_normalized BIGINT, \n",
      "\tsmart_90_raw BIGINT, \n",
      "\tdatacenter VARCHAR, \n",
      "\tcluster_id VARCHAR, \n",
      "\tpod_slot_num INTEGER, \n",
      "\tsmart_82_normalized BIGINT, \n",
      "\tsmart_82_raw BIGINT, \n",
      "\tsmart_27_normalized BIGINT, \n",
      "\tsmart_27_raw BIGINT, \n",
      "\tsmart_211_normalized BIGINT, \n",
      "\tsmart_211_raw BIGINT, \n",
      "\tsmart_212_normalized BIGINT, \n",
      "\tsmart_212_raw BIGINT\n",
      ")\n",
      "\n",
      "/*\n",
      "3 rows from drivestats table:\n",
      "date\tserial_number\tmodel\tcapacity_bytes\tfailure\tsmart_1_raw\tsmart_5_raw\tsmart_9_raw\tsmart_194_raw\tsmart_197_raw\tsmart_1_normalized\tsmart_2_normalized\tsmart_2_raw\tsmart_3_normalized\tsmart_3_raw\tsmart_4_normalized\tsmart_4_raw\tsmart_5_normalized\tsmart_7_normalized\tsmart_7_raw\tsmart_8_normalized\tsmart_8_raw\tsmart_9_normalized\tsmart_10_normalized\tsmart_10_raw\tsmart_12_normalized\tsmart_12_raw\tsmart_184_normalized\tsmart_184_raw\tsmart_187_normalized\tsmart_187_raw\tsmart_188_normalized\tsmart_188_raw\tsmart_189_normalized\tsmart_189_raw\tsmart_190_normalized\tsmart_190_raw\tsmart_191_normalized\tsmart_191_raw\tsmart_192_normalized\tsmart_192_raw\tsmart_193_normalized\tsmart_193_raw\tsmart_194_normalized\tsmart_195_normalized\tsmart_195_raw\tsmart_196_normalized\tsmart_196_raw\tsmart_197_normalized\tsmart_198_normalized\tsmart_198_raw\tsmart_199_normalized\tsmart_199_raw\tsmart_240_normalized\tsmart_240_raw\tsmart_241_normalized\tsmart_241_raw\tsmart_242_normalized\tsmart_242_raw\tsmart_250_normalized\tsmart_250_raw\tsmart_251_normalized\tsmart_251_raw\tsmart_252_normalized\tsmart_252_raw\tsmart_254_normalized\tsmart_254_raw\tsmart_11_normalized\tsmart_11_raw\tsmart_183_normalized\tsmart_183_raw\tsmart_200_normalized\tsmart_200_raw\tsmart_223_normalized\tsmart_223_raw\tsmart_225_normalized\tsmart_225_raw\tsmart_13_normalized\tsmart_13_raw\tsmart_201_normalized\tsmart_201_raw\tsmart_15_normalized\tsmart_15_raw\tsmart_255_normalized\tsmart_255_raw\tsmart_22_normalized\tsmart_22_raw\tsmart_220_normalized\tsmart_220_raw\tsmart_222_normalized\tsmart_222_raw\tsmart_224_normalized\tsmart_224_raw\tsmart_226_normalized\tsmart_226_raw\tsmart_177_normalized\tsmart_177_raw\tsmart_179_normalized\tsmart_179_raw\tsmart_181_normalized\tsmart_181_raw\tsmart_182_normalized\tsmart_182_raw\tsmart_235_normalized\tsmart_235_raw\tsmart_23_normalized\tsmart_23_raw\tsmart_24_normalized\tsmart_24_raw\tsmart_16_normalized\tsmart_16_raw\tsmart_17_normalized\tsmart_17_raw\tsmart_168_normalized\tsmart_168_raw\tsmart_170_normalized\tsmart_170_raw\tsmart_173_normalized\tsmart_173_raw\tsmart_174_normalized\tsmart_174_raw\tsmart_218_normalized\tsmart_218_raw\tsmart_231_normalized\tsmart_231_raw\tsmart_232_normalized\tsmart_232_raw\tsmart_233_normalized\tsmart_233_raw\tsmart_18_normalized\tsmart_18_raw\tsmart_175_normalized\tsmart_175_raw\tsmart_180_normalized\tsmart_180_raw\tsmart_202_normalized\tsmart_202_raw\tsmart_206_normalized\tsmart_206_raw\tsmart_210_normalized\tsmart_210_raw\tsmart_245_normalized\tsmart_245_raw\tsmart_247_normalized\tsmart_247_raw\tsmart_248_normalized\tsmart_248_raw\tsmart_234_normalized\tsmart_234_raw\tsmart_160_normalized\tsmart_160_raw\tsmart_161_normalized\tsmart_161_raw\tsmart_163_normalized\tsmart_163_raw\tsmart_164_normalized\tsmart_164_raw\tsmart_165_normalized\tsmart_165_raw\tsmart_166_normalized\tsmart_166_raw\tsmart_167_normalized\tsmart_167_raw\tsmart_169_normalized\tsmart_169_raw\tsmart_176_normalized\tsmart_176_raw\tsmart_178_normalized\tsmart_178_raw\tsmart_171_normalized\tsmart_171_raw\tsmart_172_normalized\tsmart_172_raw\tsmart_230_normalized\tsmart_230_raw\tsmart_244_normalized\tsmart_244_raw\tsmart_246_normalized\tsmart_246_raw\tvault_id\tpod_id\tis_legacy_format\tsmart_71_normalized\tsmart_71_raw\tsmart_90_normalized\tsmart_90_raw\tdatacenter\tcluster_id\tpod_slot_num\tsmart_82_normalized\tsmart_82_raw\tsmart_27_normalized\tsmart_27_raw\tsmart_211_normalized\tsmart_211_raw\tsmart_212_normalized\tsmart_212_raw\n",
      "2022-07-16\tZL005DMV\tST12000NM0008\t12000138625024\t0\t243882184\t0\t17064\t31\t0\t84\tNone\tNone\t95\t0\t100\t4\t100\t90\t957131664\tNone\tNone\t81\t100\t0\t100\t4\tNone\tNone\t100\t0\t100\t0\tNone\tNone\t69\t31\tNone\tNone\t100\t2\t100\t995\t31\t1\t243882184\tNone\tNone\t100\t100\t0\t200\t0\t100\t16899\t100\t59299500320\t100\t207061302328\tNone\tNone\tNone\tNone\tNone\tNone\tNone\tNone\tNone\tNone\tNone\tNone\t100\t0\tNone\tNone\tNone\tNone\tNone\tNone\tNone\tNone\tNone\tNone\tNone\tNone\tNone\tNone\tNone\tNone\tNone\tNone\tNone\tNone\tNone\tNone\tNone\tNone\tNone\tNone\tNone\tNone\tNone\tNone\tNone\tNone\tNone\tNone\tNone\tNone\tNone\tNone\tNone\tNone\tNone\tNone\tNone\tNone\tNone\tNone\tNone\tNone\tNone\tNone\tNone\tNone\tNone\tNone\tNone\tNone\t100\t0\tNone\tNone\tNone\tNone\tNone\tNone\tNone\tNone\tNone\tNone\tNone\tNone\tNone\tNone\tNone\tNone\tNone\tNone\tNone\tNone\tNone\tNone\tNone\tNone\tNone\tNone\tNone\tNone\tNone\tNone\tNone\tNone\tNone\tNone\tNone\tNone\tNone\tNone\tNone\tNone\tNone\tNone\tNone\tNone\tNone\tNone\tNone\tNone\tNone\tNone\tNone\tNone\tNone\tNone\tNone\tNone\tNone\tNone\tNone\tNone\tNone\tNone\tNone\tNone\tNone\tNone\n",
      "2022-07-16\tZL005E0M\tST12000NM0008\t12000138625024\t0\t238915344\t0\t17065\t30\t0\t84\tNone\tNone\t95\t0\t100\t4\t100\t89\t860133364\tNone\tNone\t81\t100\t0\t100\t4\tNone\tNone\t100\t0\t100\t0\tNone\tNone\t70\t30\tNone\tNone\t100\t2\t100\t1020\t30\t1\t238915344\tNone\tNone\t100\t100\t0\t200\t0\t100\t16892\t100\t59170369264\t100\t206452819664\tNone\tNone\tNone\tNone\tNone\tNone\tNone\tNone\tNone\tNone\tNone\tNone\t100\t0\tNone\tNone\tNone\tNone\tNone\tNone\tNone\tNone\tNone\tNone\tNone\tNone\tNone\tNone\tNone\tNone\tNone\tNone\tNone\tNone\tNone\tNone\tNone\tNone\tNone\tNone\tNone\tNone\tNone\tNone\tNone\tNone\tNone\tNone\tNone\tNone\tNone\tNone\tNone\tNone\tNone\tNone\tNone\tNone\tNone\tNone\tNone\tNone\tNone\tNone\tNone\tNone\tNone\tNone\tNone\tNone\t100\t0\tNone\tNone\tNone\tNone\tNone\tNone\tNone\tNone\tNone\tNone\tNone\tNone\tNone\tNone\tNone\tNone\tNone\tNone\tNone\tNone\tNone\tNone\tNone\tNone\tNone\tNone\tNone\tNone\tNone\tNone\tNone\tNone\tNone\tNone\tNone\tNone\tNone\tNone\tNone\tNone\tNone\tNone\tNone\tNone\tNone\tNone\tNone\tNone\tNone\tNone\tNone\tNone\tNone\tNone\tNone\tNone\tNone\tNone\tNone\tNone\tNone\tNone\tNone\tNone\tNone\tNone\n",
      "2022-07-16\tZL005E2Y\tST12000NM0008\t12000138625024\t0\t220713088\t0\t17065\t30\t0\t83\tNone\tNone\t95\t0\t100\t4\t100\t89\t874301038\tNone\tNone\t81\t100\t0\t100\t4\tNone\tNone\t100\t0\t100\t0\tNone\tNone\t70\t30\tNone\tNone\t100\t2\t100\t1005\t30\t1\t220713088\tNone\tNone\t100\t100\t0\t200\t0\t100\t16890\t100\t59221571608\t100\t186120192640\tNone\tNone\tNone\tNone\tNone\tNone\tNone\tNone\tNone\tNone\tNone\tNone\t100\t0\tNone\tNone\tNone\tNone\tNone\tNone\tNone\tNone\tNone\tNone\tNone\tNone\tNone\tNone\tNone\tNone\tNone\tNone\tNone\tNone\tNone\tNone\tNone\tNone\tNone\tNone\tNone\tNone\tNone\tNone\tNone\tNone\tNone\tNone\tNone\tNone\tNone\tNone\tNone\tNone\tNone\tNone\tNone\tNone\tNone\tNone\tNone\tNone\tNone\tNone\tNone\tNone\tNone\tNone\tNone\tNone\t100\t0\tNone\tNone\tNone\tNone\tNone\tNone\tNone\tNone\tNone\tNone\tNone\tNone\tNone\tNone\tNone\tNone\tNone\tNone\tNone\tNone\tNone\tNone\tNone\tNone\tNone\tNone\tNone\tNone\tNone\tNone\tNone\tNone\tNone\tNone\tNone\tNone\tNone\tNone\tNone\tNone\tNone\tNone\tNone\tNone\tNone\tNone\tNone\tNone\tNone\tNone\tNone\tNone\tNone\tNone\tNone\tNone\tNone\tNone\tNone\tNone\tNone\tNone\tNone\tNone\tNone\tNone\n",
      "*/\n",
      "==================================\u001B[1m Ai Message \u001B[0m==================================\n",
      "Tool Calls:\n",
      "  sql_db_query_checker (call_Txjv02zMhRbA6KMh5fQjdozo)\n",
      " Call ID: call_Txjv02zMhRbA6KMh5fQjdozo\n",
      "  Args:\n",
      "    query: SELECT COUNT(*) AS drive_days, COUNT(CASE WHEN failure = 1 THEN 1 END) AS failures, 100 * (CAST(COUNT(CASE WHEN failure = 1 THEN 1 END) AS DOUBLE) / (COUNT(*) / 365)) AS annual_failure_rate FROM drivestats WHERE model = 'ST4000DM000'\n",
      "=================================\u001B[1m Tool Message \u001B[0m=================================\n",
      "Name: sql_db_query_checker\n",
      "\n",
      "```sql\n",
      "SELECT COUNT(*) AS drive_days, \n",
      "       COUNT(CASE WHEN failure = 1 THEN 1 END) AS failures, \n",
      "       100 * (CAST(COUNT(CASE WHEN failure = 1 THEN 1 END) AS DOUBLE) / (COUNT(*) / 365)) AS annual_failure_rate \n",
      "FROM drivestats \n",
      "WHERE model = 'ST4000DM000'\n",
      "```\n",
      "==================================\u001B[1m Ai Message \u001B[0m==================================\n",
      "Tool Calls:\n",
      "  sql_db_query (call_2oi4X9ky78ZRhjFcaIi4mJfr)\n",
      " Call ID: call_2oi4X9ky78ZRhjFcaIi4mJfr\n",
      "  Args:\n",
      "    query: SELECT COUNT(*) AS drive_days, COUNT(CASE WHEN failure = 1 THEN 1 END) AS failures, 100 * (CAST(COUNT(CASE WHEN failure = 1 THEN 1 END) AS DOUBLE) / (COUNT(*) / 365)) AS annual_failure_rate FROM drivestats WHERE model = 'ST4000DM000'\n",
      "=================================\u001B[1m Tool Message \u001B[0m=================================\n",
      "Name: sql_db_query\n",
      "\n",
      "[(80454295, 5791, 2.6272332162851257)]\n",
      "==================================\u001B[1m Ai Message \u001B[0m==================================\n",
      "\n",
      "The annual failure rate of the ST4000DM000 drive model is approximately 2.63%.\n"
     ]
    }
   ],
   "execution_count": 25
  },
  {
   "metadata": {},
   "cell_type": "markdown",
   "source": "Let’s ask the AI agent for a statistic that we can corroborate from the [Backblaze Drive Stats for Q3 2024](https://www.backblaze.com/blog/backblaze-drive-stats-for-q3-2024/) blog post.",
   "id": "e48fbcad31c1b28c"
  },
  {
   "metadata": {
    "ExecuteTime": {
     "end_time": "2025-02-20T18:52:12.997059Z",
     "start_time": "2025-02-20T18:51:59.077339Z"
    }
   },
   "cell_type": "code",
   "source": [
    "for step in agent_executor.stream(\n",
    "        {\"messages\": [{\"role\": \"user\", \"content\": \"What was the annual failure rate of the ST8000NM000A drive model in Q3 2024?\"}]},\n",
    "        stream_mode=\"values\",\n",
    "):\n",
    "    step[\"messages\"][-1].pretty_print()"
   ],
   "id": "bcb9346e91d52b69",
   "outputs": [
    {
     "name": "stdout",
     "output_type": "stream",
     "text": [
      "================================\u001B[1m Human Message \u001B[0m=================================\n",
      "\n",
      "What was the annual failure rate of the ST8000NM000A drive model in Q3 2024?\n",
      "==================================\u001B[1m Ai Message \u001B[0m==================================\n",
      "Tool Calls:\n",
      "  sql_db_list_tables (call_F3Wil2gD3VBSOPN9obwK4NGt)\n",
      " Call ID: call_F3Wil2gD3VBSOPN9obwK4NGt\n",
      "  Args:\n",
      "=================================\u001B[1m Tool Message \u001B[0m=================================\n",
      "Name: sql_db_list_tables\n",
      "\n",
      "drivestats\n",
      "==================================\u001B[1m Ai Message \u001B[0m==================================\n",
      "Tool Calls:\n",
      "  sql_db_schema (call_SJtUScbSCUQjQgjz4C7UMBCz)\n",
      " Call ID: call_SJtUScbSCUQjQgjz4C7UMBCz\n",
      "  Args:\n",
      "    table_names: drivestats\n",
      "=================================\u001B[1m Tool Message \u001B[0m=================================\n",
      "Name: sql_db_schema\n",
      "\n",
      "\n",
      "CREATE TABLE drivestats (\n",
      "\tdate DATE, \n",
      "\tserial_number VARCHAR, \n",
      "\tmodel VARCHAR, \n",
      "\tcapacity_bytes BIGINT, \n",
      "\tfailure INTEGER, \n",
      "\tsmart_1_raw BIGINT, \n",
      "\tsmart_5_raw BIGINT, \n",
      "\tsmart_9_raw BIGINT, \n",
      "\tsmart_194_raw BIGINT, \n",
      "\tsmart_197_raw BIGINT, \n",
      "\tsmart_1_normalized BIGINT, \n",
      "\tsmart_2_normalized BIGINT, \n",
      "\tsmart_2_raw BIGINT, \n",
      "\tsmart_3_normalized BIGINT, \n",
      "\tsmart_3_raw BIGINT, \n",
      "\tsmart_4_normalized BIGINT, \n",
      "\tsmart_4_raw BIGINT, \n",
      "\tsmart_5_normalized BIGINT, \n",
      "\tsmart_7_normalized BIGINT, \n",
      "\tsmart_7_raw BIGINT, \n",
      "\tsmart_8_normalized BIGINT, \n",
      "\tsmart_8_raw BIGINT, \n",
      "\tsmart_9_normalized BIGINT, \n",
      "\tsmart_10_normalized BIGINT, \n",
      "\tsmart_10_raw BIGINT, \n",
      "\tsmart_12_normalized BIGINT, \n",
      "\tsmart_12_raw BIGINT, \n",
      "\tsmart_184_normalized BIGINT, \n",
      "\tsmart_184_raw BIGINT, \n",
      "\tsmart_187_normalized BIGINT, \n",
      "\tsmart_187_raw BIGINT, \n",
      "\tsmart_188_normalized BIGINT, \n",
      "\tsmart_188_raw BIGINT, \n",
      "\tsmart_189_normalized BIGINT, \n",
      "\tsmart_189_raw BIGINT, \n",
      "\tsmart_190_normalized BIGINT, \n",
      "\tsmart_190_raw BIGINT, \n",
      "\tsmart_191_normalized BIGINT, \n",
      "\tsmart_191_raw BIGINT, \n",
      "\tsmart_192_normalized BIGINT, \n",
      "\tsmart_192_raw BIGINT, \n",
      "\tsmart_193_normalized BIGINT, \n",
      "\tsmart_193_raw BIGINT, \n",
      "\tsmart_194_normalized BIGINT, \n",
      "\tsmart_195_normalized BIGINT, \n",
      "\tsmart_195_raw BIGINT, \n",
      "\tsmart_196_normalized BIGINT, \n",
      "\tsmart_196_raw BIGINT, \n",
      "\tsmart_197_normalized BIGINT, \n",
      "\tsmart_198_normalized BIGINT, \n",
      "\tsmart_198_raw BIGINT, \n",
      "\tsmart_199_normalized BIGINT, \n",
      "\tsmart_199_raw BIGINT, \n",
      "\tsmart_240_normalized BIGINT, \n",
      "\tsmart_240_raw BIGINT, \n",
      "\tsmart_241_normalized BIGINT, \n",
      "\tsmart_241_raw BIGINT, \n",
      "\tsmart_242_normalized BIGINT, \n",
      "\tsmart_242_raw BIGINT, \n",
      "\tsmart_250_normalized BIGINT, \n",
      "\tsmart_250_raw BIGINT, \n",
      "\tsmart_251_normalized BIGINT, \n",
      "\tsmart_251_raw BIGINT, \n",
      "\tsmart_252_normalized BIGINT, \n",
      "\tsmart_252_raw BIGINT, \n",
      "\tsmart_254_normalized BIGINT, \n",
      "\tsmart_254_raw BIGINT, \n",
      "\tsmart_11_normalized BIGINT, \n",
      "\tsmart_11_raw BIGINT, \n",
      "\tsmart_183_normalized BIGINT, \n",
      "\tsmart_183_raw BIGINT, \n",
      "\tsmart_200_normalized BIGINT, \n",
      "\tsmart_200_raw BIGINT, \n",
      "\tsmart_223_normalized BIGINT, \n",
      "\tsmart_223_raw BIGINT, \n",
      "\tsmart_225_normalized BIGINT, \n",
      "\tsmart_225_raw BIGINT, \n",
      "\tsmart_13_normalized BIGINT, \n",
      "\tsmart_13_raw BIGINT, \n",
      "\tsmart_201_normalized BIGINT, \n",
      "\tsmart_201_raw BIGINT, \n",
      "\tsmart_15_normalized BIGINT, \n",
      "\tsmart_15_raw BIGINT, \n",
      "\tsmart_255_normalized BIGINT, \n",
      "\tsmart_255_raw BIGINT, \n",
      "\tsmart_22_normalized BIGINT, \n",
      "\tsmart_22_raw BIGINT, \n",
      "\tsmart_220_normalized BIGINT, \n",
      "\tsmart_220_raw BIGINT, \n",
      "\tsmart_222_normalized BIGINT, \n",
      "\tsmart_222_raw BIGINT, \n",
      "\tsmart_224_normalized BIGINT, \n",
      "\tsmart_224_raw BIGINT, \n",
      "\tsmart_226_normalized BIGINT, \n",
      "\tsmart_226_raw BIGINT, \n",
      "\tsmart_177_normalized BIGINT, \n",
      "\tsmart_177_raw BIGINT, \n",
      "\tsmart_179_normalized BIGINT, \n",
      "\tsmart_179_raw BIGINT, \n",
      "\tsmart_181_normalized BIGINT, \n",
      "\tsmart_181_raw BIGINT, \n",
      "\tsmart_182_normalized BIGINT, \n",
      "\tsmart_182_raw BIGINT, \n",
      "\tsmart_235_normalized BIGINT, \n",
      "\tsmart_235_raw BIGINT, \n",
      "\tsmart_23_normalized BIGINT, \n",
      "\tsmart_23_raw BIGINT, \n",
      "\tsmart_24_normalized BIGINT, \n",
      "\tsmart_24_raw BIGINT, \n",
      "\tsmart_16_normalized BIGINT, \n",
      "\tsmart_16_raw BIGINT, \n",
      "\tsmart_17_normalized BIGINT, \n",
      "\tsmart_17_raw BIGINT, \n",
      "\tsmart_168_normalized BIGINT, \n",
      "\tsmart_168_raw BIGINT, \n",
      "\tsmart_170_normalized BIGINT, \n",
      "\tsmart_170_raw BIGINT, \n",
      "\tsmart_173_normalized BIGINT, \n",
      "\tsmart_173_raw BIGINT, \n",
      "\tsmart_174_normalized BIGINT, \n",
      "\tsmart_174_raw BIGINT, \n",
      "\tsmart_218_normalized BIGINT, \n",
      "\tsmart_218_raw BIGINT, \n",
      "\tsmart_231_normalized BIGINT, \n",
      "\tsmart_231_raw BIGINT, \n",
      "\tsmart_232_normalized BIGINT, \n",
      "\tsmart_232_raw BIGINT, \n",
      "\tsmart_233_normalized BIGINT, \n",
      "\tsmart_233_raw BIGINT, \n",
      "\tsmart_18_normalized BIGINT, \n",
      "\tsmart_18_raw BIGINT, \n",
      "\tsmart_175_normalized BIGINT, \n",
      "\tsmart_175_raw BIGINT, \n",
      "\tsmart_180_normalized BIGINT, \n",
      "\tsmart_180_raw BIGINT, \n",
      "\tsmart_202_normalized BIGINT, \n",
      "\tsmart_202_raw BIGINT, \n",
      "\tsmart_206_normalized BIGINT, \n",
      "\tsmart_206_raw BIGINT, \n",
      "\tsmart_210_normalized BIGINT, \n",
      "\tsmart_210_raw BIGINT, \n",
      "\tsmart_245_normalized BIGINT, \n",
      "\tsmart_245_raw BIGINT, \n",
      "\tsmart_247_normalized BIGINT, \n",
      "\tsmart_247_raw BIGINT, \n",
      "\tsmart_248_normalized BIGINT, \n",
      "\tsmart_248_raw BIGINT, \n",
      "\tsmart_234_normalized BIGINT, \n",
      "\tsmart_234_raw BIGINT, \n",
      "\tsmart_160_normalized BIGINT, \n",
      "\tsmart_160_raw BIGINT, \n",
      "\tsmart_161_normalized BIGINT, \n",
      "\tsmart_161_raw BIGINT, \n",
      "\tsmart_163_normalized BIGINT, \n",
      "\tsmart_163_raw BIGINT, \n",
      "\tsmart_164_normalized BIGINT, \n",
      "\tsmart_164_raw BIGINT, \n",
      "\tsmart_165_normalized BIGINT, \n",
      "\tsmart_165_raw BIGINT, \n",
      "\tsmart_166_normalized BIGINT, \n",
      "\tsmart_166_raw BIGINT, \n",
      "\tsmart_167_normalized BIGINT, \n",
      "\tsmart_167_raw BIGINT, \n",
      "\tsmart_169_normalized BIGINT, \n",
      "\tsmart_169_raw BIGINT, \n",
      "\tsmart_176_normalized BIGINT, \n",
      "\tsmart_176_raw BIGINT, \n",
      "\tsmart_178_normalized BIGINT, \n",
      "\tsmart_178_raw BIGINT, \n",
      "\tsmart_171_normalized BIGINT, \n",
      "\tsmart_171_raw BIGINT, \n",
      "\tsmart_172_normalized BIGINT, \n",
      "\tsmart_172_raw BIGINT, \n",
      "\tsmart_230_normalized BIGINT, \n",
      "\tsmart_230_raw BIGINT, \n",
      "\tsmart_244_normalized BIGINT, \n",
      "\tsmart_244_raw BIGINT, \n",
      "\tsmart_246_normalized BIGINT, \n",
      "\tsmart_246_raw BIGINT, \n",
      "\tvault_id VARCHAR, \n",
      "\tpod_id INTEGER, \n",
      "\tis_legacy_format INTEGER, \n",
      "\tsmart_71_normalized BIGINT, \n",
      "\tsmart_71_raw BIGINT, \n",
      "\tsmart_90_normalized BIGINT, \n",
      "\tsmart_90_raw BIGINT, \n",
      "\tdatacenter VARCHAR, \n",
      "\tcluster_id VARCHAR, \n",
      "\tpod_slot_num INTEGER, \n",
      "\tsmart_82_normalized BIGINT, \n",
      "\tsmart_82_raw BIGINT, \n",
      "\tsmart_27_normalized BIGINT, \n",
      "\tsmart_27_raw BIGINT, \n",
      "\tsmart_211_normalized BIGINT, \n",
      "\tsmart_211_raw BIGINT, \n",
      "\tsmart_212_normalized BIGINT, \n",
      "\tsmart_212_raw BIGINT\n",
      ")\n",
      "\n",
      "/*\n",
      "3 rows from drivestats table:\n",
      "date\tserial_number\tmodel\tcapacity_bytes\tfailure\tsmart_1_raw\tsmart_5_raw\tsmart_9_raw\tsmart_194_raw\tsmart_197_raw\tsmart_1_normalized\tsmart_2_normalized\tsmart_2_raw\tsmart_3_normalized\tsmart_3_raw\tsmart_4_normalized\tsmart_4_raw\tsmart_5_normalized\tsmart_7_normalized\tsmart_7_raw\tsmart_8_normalized\tsmart_8_raw\tsmart_9_normalized\tsmart_10_normalized\tsmart_10_raw\tsmart_12_normalized\tsmart_12_raw\tsmart_184_normalized\tsmart_184_raw\tsmart_187_normalized\tsmart_187_raw\tsmart_188_normalized\tsmart_188_raw\tsmart_189_normalized\tsmart_189_raw\tsmart_190_normalized\tsmart_190_raw\tsmart_191_normalized\tsmart_191_raw\tsmart_192_normalized\tsmart_192_raw\tsmart_193_normalized\tsmart_193_raw\tsmart_194_normalized\tsmart_195_normalized\tsmart_195_raw\tsmart_196_normalized\tsmart_196_raw\tsmart_197_normalized\tsmart_198_normalized\tsmart_198_raw\tsmart_199_normalized\tsmart_199_raw\tsmart_240_normalized\tsmart_240_raw\tsmart_241_normalized\tsmart_241_raw\tsmart_242_normalized\tsmart_242_raw\tsmart_250_normalized\tsmart_250_raw\tsmart_251_normalized\tsmart_251_raw\tsmart_252_normalized\tsmart_252_raw\tsmart_254_normalized\tsmart_254_raw\tsmart_11_normalized\tsmart_11_raw\tsmart_183_normalized\tsmart_183_raw\tsmart_200_normalized\tsmart_200_raw\tsmart_223_normalized\tsmart_223_raw\tsmart_225_normalized\tsmart_225_raw\tsmart_13_normalized\tsmart_13_raw\tsmart_201_normalized\tsmart_201_raw\tsmart_15_normalized\tsmart_15_raw\tsmart_255_normalized\tsmart_255_raw\tsmart_22_normalized\tsmart_22_raw\tsmart_220_normalized\tsmart_220_raw\tsmart_222_normalized\tsmart_222_raw\tsmart_224_normalized\tsmart_224_raw\tsmart_226_normalized\tsmart_226_raw\tsmart_177_normalized\tsmart_177_raw\tsmart_179_normalized\tsmart_179_raw\tsmart_181_normalized\tsmart_181_raw\tsmart_182_normalized\tsmart_182_raw\tsmart_235_normalized\tsmart_235_raw\tsmart_23_normalized\tsmart_23_raw\tsmart_24_normalized\tsmart_24_raw\tsmart_16_normalized\tsmart_16_raw\tsmart_17_normalized\tsmart_17_raw\tsmart_168_normalized\tsmart_168_raw\tsmart_170_normalized\tsmart_170_raw\tsmart_173_normalized\tsmart_173_raw\tsmart_174_normalized\tsmart_174_raw\tsmart_218_normalized\tsmart_218_raw\tsmart_231_normalized\tsmart_231_raw\tsmart_232_normalized\tsmart_232_raw\tsmart_233_normalized\tsmart_233_raw\tsmart_18_normalized\tsmart_18_raw\tsmart_175_normalized\tsmart_175_raw\tsmart_180_normalized\tsmart_180_raw\tsmart_202_normalized\tsmart_202_raw\tsmart_206_normalized\tsmart_206_raw\tsmart_210_normalized\tsmart_210_raw\tsmart_245_normalized\tsmart_245_raw\tsmart_247_normalized\tsmart_247_raw\tsmart_248_normalized\tsmart_248_raw\tsmart_234_normalized\tsmart_234_raw\tsmart_160_normalized\tsmart_160_raw\tsmart_161_normalized\tsmart_161_raw\tsmart_163_normalized\tsmart_163_raw\tsmart_164_normalized\tsmart_164_raw\tsmart_165_normalized\tsmart_165_raw\tsmart_166_normalized\tsmart_166_raw\tsmart_167_normalized\tsmart_167_raw\tsmart_169_normalized\tsmart_169_raw\tsmart_176_normalized\tsmart_176_raw\tsmart_178_normalized\tsmart_178_raw\tsmart_171_normalized\tsmart_171_raw\tsmart_172_normalized\tsmart_172_raw\tsmart_230_normalized\tsmart_230_raw\tsmart_244_normalized\tsmart_244_raw\tsmart_246_normalized\tsmart_246_raw\tvault_id\tpod_id\tis_legacy_format\tsmart_71_normalized\tsmart_71_raw\tsmart_90_normalized\tsmart_90_raw\tdatacenter\tcluster_id\tpod_slot_num\tsmart_82_normalized\tsmart_82_raw\tsmart_27_normalized\tsmart_27_raw\tsmart_211_normalized\tsmart_211_raw\tsmart_212_normalized\tsmart_212_raw\n",
      "2022-07-16\tZL005DMV\tST12000NM0008\t12000138625024\t0\t243882184\t0\t17064\t31\t0\t84\tNone\tNone\t95\t0\t100\t4\t100\t90\t957131664\tNone\tNone\t81\t100\t0\t100\t4\tNone\tNone\t100\t0\t100\t0\tNone\tNone\t69\t31\tNone\tNone\t100\t2\t100\t995\t31\t1\t243882184\tNone\tNone\t100\t100\t0\t200\t0\t100\t16899\t100\t59299500320\t100\t207061302328\tNone\tNone\tNone\tNone\tNone\tNone\tNone\tNone\tNone\tNone\tNone\tNone\t100\t0\tNone\tNone\tNone\tNone\tNone\tNone\tNone\tNone\tNone\tNone\tNone\tNone\tNone\tNone\tNone\tNone\tNone\tNone\tNone\tNone\tNone\tNone\tNone\tNone\tNone\tNone\tNone\tNone\tNone\tNone\tNone\tNone\tNone\tNone\tNone\tNone\tNone\tNone\tNone\tNone\tNone\tNone\tNone\tNone\tNone\tNone\tNone\tNone\tNone\tNone\tNone\tNone\tNone\tNone\tNone\tNone\t100\t0\tNone\tNone\tNone\tNone\tNone\tNone\tNone\tNone\tNone\tNone\tNone\tNone\tNone\tNone\tNone\tNone\tNone\tNone\tNone\tNone\tNone\tNone\tNone\tNone\tNone\tNone\tNone\tNone\tNone\tNone\tNone\tNone\tNone\tNone\tNone\tNone\tNone\tNone\tNone\tNone\tNone\tNone\tNone\tNone\tNone\tNone\tNone\tNone\tNone\tNone\tNone\tNone\tNone\tNone\tNone\tNone\tNone\tNone\tNone\tNone\tNone\tNone\tNone\tNone\tNone\tNone\n",
      "2022-07-16\tZL005E0M\tST12000NM0008\t12000138625024\t0\t238915344\t0\t17065\t30\t0\t84\tNone\tNone\t95\t0\t100\t4\t100\t89\t860133364\tNone\tNone\t81\t100\t0\t100\t4\tNone\tNone\t100\t0\t100\t0\tNone\tNone\t70\t30\tNone\tNone\t100\t2\t100\t1020\t30\t1\t238915344\tNone\tNone\t100\t100\t0\t200\t0\t100\t16892\t100\t59170369264\t100\t206452819664\tNone\tNone\tNone\tNone\tNone\tNone\tNone\tNone\tNone\tNone\tNone\tNone\t100\t0\tNone\tNone\tNone\tNone\tNone\tNone\tNone\tNone\tNone\tNone\tNone\tNone\tNone\tNone\tNone\tNone\tNone\tNone\tNone\tNone\tNone\tNone\tNone\tNone\tNone\tNone\tNone\tNone\tNone\tNone\tNone\tNone\tNone\tNone\tNone\tNone\tNone\tNone\tNone\tNone\tNone\tNone\tNone\tNone\tNone\tNone\tNone\tNone\tNone\tNone\tNone\tNone\tNone\tNone\tNone\tNone\t100\t0\tNone\tNone\tNone\tNone\tNone\tNone\tNone\tNone\tNone\tNone\tNone\tNone\tNone\tNone\tNone\tNone\tNone\tNone\tNone\tNone\tNone\tNone\tNone\tNone\tNone\tNone\tNone\tNone\tNone\tNone\tNone\tNone\tNone\tNone\tNone\tNone\tNone\tNone\tNone\tNone\tNone\tNone\tNone\tNone\tNone\tNone\tNone\tNone\tNone\tNone\tNone\tNone\tNone\tNone\tNone\tNone\tNone\tNone\tNone\tNone\tNone\tNone\tNone\tNone\tNone\tNone\n",
      "2022-07-16\tZL005E2Y\tST12000NM0008\t12000138625024\t0\t220713088\t0\t17065\t30\t0\t83\tNone\tNone\t95\t0\t100\t4\t100\t89\t874301038\tNone\tNone\t81\t100\t0\t100\t4\tNone\tNone\t100\t0\t100\t0\tNone\tNone\t70\t30\tNone\tNone\t100\t2\t100\t1005\t30\t1\t220713088\tNone\tNone\t100\t100\t0\t200\t0\t100\t16890\t100\t59221571608\t100\t186120192640\tNone\tNone\tNone\tNone\tNone\tNone\tNone\tNone\tNone\tNone\tNone\tNone\t100\t0\tNone\tNone\tNone\tNone\tNone\tNone\tNone\tNone\tNone\tNone\tNone\tNone\tNone\tNone\tNone\tNone\tNone\tNone\tNone\tNone\tNone\tNone\tNone\tNone\tNone\tNone\tNone\tNone\tNone\tNone\tNone\tNone\tNone\tNone\tNone\tNone\tNone\tNone\tNone\tNone\tNone\tNone\tNone\tNone\tNone\tNone\tNone\tNone\tNone\tNone\tNone\tNone\tNone\tNone\tNone\tNone\t100\t0\tNone\tNone\tNone\tNone\tNone\tNone\tNone\tNone\tNone\tNone\tNone\tNone\tNone\tNone\tNone\tNone\tNone\tNone\tNone\tNone\tNone\tNone\tNone\tNone\tNone\tNone\tNone\tNone\tNone\tNone\tNone\tNone\tNone\tNone\tNone\tNone\tNone\tNone\tNone\tNone\tNone\tNone\tNone\tNone\tNone\tNone\tNone\tNone\tNone\tNone\tNone\tNone\tNone\tNone\tNone\tNone\tNone\tNone\tNone\tNone\tNone\tNone\tNone\tNone\tNone\tNone\n",
      "*/\n",
      "==================================\u001B[1m Ai Message \u001B[0m==================================\n",
      "Tool Calls:\n",
      "  sql_db_query_checker (call_XtRS5sZRHYMygc4DntOyWY5c)\n",
      " Call ID: call_XtRS5sZRHYMygc4DntOyWY5c\n",
      "  Args:\n",
      "    query: SELECT 100 * (SUM(CASE WHEN failure = 1 THEN 1 ELSE 0 END) / (COUNT(*) / 365.0)) AS annual_failure_rate\n",
      "FROM drivestats\n",
      "WHERE model = 'ST8000NM000A' AND date >= DATE '2024-07-01' AND date < DATE '2024-10-01'\n",
      "=================================\u001B[1m Tool Message \u001B[0m=================================\n",
      "Name: sql_db_query_checker\n",
      "\n",
      "```sql\n",
      "SELECT 100 * (SUM(CASE WHEN failure = 1 THEN 1 ELSE 0 END) / (COUNT(*) / 365.0)) AS annual_failure_rate\n",
      "FROM drivestats\n",
      "WHERE model = 'ST8000NM000A' AND date >= DATE '2024-07-01' AND date < DATE '2024-10-01'\n",
      "```\n",
      "==================================\u001B[1m Ai Message \u001B[0m==================================\n",
      "Tool Calls:\n",
      "  sql_db_query (call_jHzK8Ouirz7Xcqjr4vGk6u8E)\n",
      " Call ID: call_jHzK8Ouirz7Xcqjr4vGk6u8E\n",
      "  Args:\n",
      "    query: SELECT 100 * (SUM(CASE WHEN failure = 1 THEN 1 ELSE 0 END) / (COUNT(*) / 365.0)) AS annual_failure_rate\n",
      "FROM drivestats\n",
      "WHERE model = 'ST8000NM000A' AND date >= DATE '2024-07-01' AND date < DATE '2024-10-01'\n",
      "=================================\u001B[1m Tool Message \u001B[0m=================================\n",
      "Name: sql_db_query\n",
      "\n",
      "[(Decimal('0.0'),)]\n",
      "==================================\u001B[1m Ai Message \u001B[0m==================================\n",
      "\n",
      "The annual failure rate of the ST8000NM000A drive model in Q3 2024 is 0.0%.\n"
     ]
    }
   ],
   "execution_count": 26
  },
  {
   "metadata": {},
   "cell_type": "markdown",
   "source": [
    "The query makes sense, and the response agrees with the table in the blog post.\n",
    "\n",
    "Finally, let’s ask a more convoluted question, including the constraints given in the blog post:"
   ],
   "id": "99654aa14b38e5d2"
  },
  {
   "metadata": {
    "ExecuteTime": {
     "end_time": "2025-02-20T18:52:41.820798Z",
     "start_time": "2025-02-20T18:52:13.023572Z"
    }
   },
   "cell_type": "code",
   "source": [
    "response = agent_executor.invoke(\n",
    "    {\"messages\": [{\"role\": \"user\", \"content\": \"Considering only drive models which had at least 100 drives in service at the end of the quarter and which accumulated 10,000 or more drive days during the quarter, which drive had the most failures in Q3 2024, and what was its failure rate?\"}]}\n",
    ")\n",
    "\n",
    "# Show the SQL query sent to the database\n",
    "print(response['messages'][-3].tool_calls[0]['args']['query'])\n",
    "\n",
    "# Show the final response message\n",
    "display_markdown(response['messages'][-1].content, raw=True)"
   ],
   "id": "d4f683f00df82a10",
   "outputs": [
    {
     "name": "stdout",
     "output_type": "stream",
     "text": [
      "WITH drive_summary AS (\n",
      "    SELECT model, COUNT(DISTINCT serial_number) AS drive_count,\n",
      "           SUM(CASE WHEN failure = 1 THEN 1 ELSE 0 END) AS failure_count,\n",
      "           COUNT(*) AS drive_days\n",
      "    FROM drivestats\n",
      "    WHERE date BETWEEN DATE '2024-07-01' AND DATE '2024-09-30'\n",
      "    GROUP BY model\n",
      "    HAVING COUNT(DISTINCT serial_number) >= 100 AND COUNT(*) >= 10000\n",
      ")\n",
      "SELECT model, failure_count,\n",
      "       100 * (CAST(failure_count AS DOUBLE) / (CAST(drive_days AS DOUBLE) / 365)) AS failure_rate\n",
      "FROM drive_summary\n",
      "ORDER BY failure_count DESC\n",
      "LIMIT 1\n"
     ]
    },
    {
     "data": {
      "text/markdown": "The drive model with the most failures in Q3 2024 was **TOSHIBA MG08ACA16TA**, which had **181 failures** and an annualized failure rate of approximately **1.84%**."
     },
     "metadata": {},
     "output_type": "display_data"
    }
   ],
   "execution_count": 27
  },
  {
   "metadata": {},
   "cell_type": "markdown",
   "source": "Again, the AI agent is able to generate a valid SQL query, this time including a subquery, and its response matches the data from the blog post exactly.",
   "id": "5e94d629fc69ce1b"
  }
 ],
 "metadata": {
  "kernelspec": {
   "display_name": "Python 3",
   "language": "python",
   "name": "python3"
  },
  "language_info": {
   "codemirror_mode": {
    "name": "ipython",
    "version": 2
   },
   "file_extension": ".py",
   "mimetype": "text/x-python",
   "name": "python",
   "nbconvert_exporter": "python",
   "pygments_lexer": "ipython2",
   "version": "2.7.6"
  }
 },
 "nbformat": 4,
 "nbformat_minor": 5
}
